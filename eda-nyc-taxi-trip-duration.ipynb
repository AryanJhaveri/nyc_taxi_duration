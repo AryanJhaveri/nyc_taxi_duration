{
 "cells": [
  {
   "cell_type": "code",
   "execution_count": 1,
   "id": "2a038432",
   "metadata": {
    "_cell_guid": "b1076dfc-b9ad-4769-8c92-a6c4dae69d19",
    "_uuid": "8f2839f25d086af736a60e9eeb907d3b93b6e0e5",
    "execution": {
     "iopub.execute_input": "2023-10-11T23:26:49.207200Z",
     "iopub.status.busy": "2023-10-11T23:26:49.206519Z",
     "iopub.status.idle": "2023-10-11T23:26:49.217625Z",
     "shell.execute_reply": "2023-10-11T23:26:49.216971Z"
    },
    "papermill": {
     "duration": 0.032834,
     "end_time": "2023-10-11T23:26:49.220891",
     "exception": false,
     "start_time": "2023-10-11T23:26:49.188057",
     "status": "completed"
    },
    "tags": []
   },
   "outputs": [
    {
     "name": "stdout",
     "output_type": "stream",
     "text": [
      "/kaggle/input/nyc-taxi-trip-duration/train.zip\n",
      "/kaggle/input/nyc-taxi-trip-duration/test.zip\n",
      "/kaggle/input/nyc-taxi-trip-duration/sample_submission.zip\n"
     ]
    }
   ],
   "source": [
    "# This Python 3 environment comes with many helpful analytics libraries installed\n",
    "# It is defined by the kaggle/python Docker image: https://github.com/kaggle/docker-python\n",
    "# For example, here's several helpful packages to load\n",
    "\n",
    "import numpy as np # linear algebra\n",
    "import pandas as pd # data processing, CSV file I/O (e.g. pd.read_csv)\n",
    "\n",
    "# Input data files are available in the read-only \"../input/\" directory\n",
    "# For example, running this (by clicking run or pressing Shift+Enter) will list all files under the input directory\n",
    "\n",
    "import os\n",
    "for dirname, _, filenames in os.walk('/kaggle/input'):\n",
    "    for filename in filenames:\n",
    "        print(os.path.join(dirname, filename))\n",
    "\n",
    "# You can write up to 20GB to the current directory (/kaggle/working/) that gets preserved as output when you create a version using \"Save & Run All\" \n",
    "# You can also write temporary files to /kaggle/temp/, but they won't be saved outside of the current session"
   ]
  },
  {
   "cell_type": "code",
   "execution_count": 2,
   "id": "96f558bc",
   "metadata": {
    "execution": {
     "iopub.execute_input": "2023-10-11T23:26:49.246762Z",
     "iopub.status.busy": "2023-10-11T23:26:49.246011Z",
     "iopub.status.idle": "2023-10-11T23:26:57.910369Z",
     "shell.execute_reply": "2023-10-11T23:26:57.909219Z"
    },
    "papermill": {
     "duration": 8.67719,
     "end_time": "2023-10-11T23:26:57.912864",
     "exception": false,
     "start_time": "2023-10-11T23:26:49.235674",
     "status": "completed"
    },
    "tags": []
   },
   "outputs": [],
   "source": [
    "train = pd.read_csv(\"../input/nyc-taxi-trip-duration/train.zip\")\n",
    "test = pd.read_csv(\"../input/nyc-taxi-trip-duration/test.zip\")"
   ]
  },
  {
   "cell_type": "code",
   "execution_count": 3,
   "id": "c9489c74",
   "metadata": {
    "execution": {
     "iopub.execute_input": "2023-10-11T23:26:57.929527Z",
     "iopub.status.busy": "2023-10-11T23:26:57.929143Z",
     "iopub.status.idle": "2023-10-11T23:26:57.936941Z",
     "shell.execute_reply": "2023-10-11T23:26:57.935988Z"
    },
    "papermill": {
     "duration": 0.018171,
     "end_time": "2023-10-11T23:26:57.938830",
     "exception": false,
     "start_time": "2023-10-11T23:26:57.920659",
     "status": "completed"
    },
    "tags": []
   },
   "outputs": [
    {
     "data": {
      "text/plain": [
       "(1458644, 11)"
      ]
     },
     "execution_count": 3,
     "metadata": {},
     "output_type": "execute_result"
    }
   ],
   "source": [
    "train.shape"
   ]
  },
  {
   "cell_type": "code",
   "execution_count": 4,
   "id": "6e4a482b",
   "metadata": {
    "execution": {
     "iopub.execute_input": "2023-10-11T23:26:57.959678Z",
     "iopub.status.busy": "2023-10-11T23:26:57.959119Z",
     "iopub.status.idle": "2023-10-11T23:26:58.325510Z",
     "shell.execute_reply": "2023-10-11T23:26:58.324273Z"
    },
    "papermill": {
     "duration": 0.381028,
     "end_time": "2023-10-11T23:26:58.327978",
     "exception": false,
     "start_time": "2023-10-11T23:26:57.946950",
     "status": "completed"
    },
    "tags": []
   },
   "outputs": [
    {
     "name": "stdout",
     "output_type": "stream",
     "text": [
      "<class 'pandas.core.frame.DataFrame'>\n",
      "RangeIndex: 1458644 entries, 0 to 1458643\n",
      "Data columns (total 11 columns):\n",
      " #   Column              Non-Null Count    Dtype  \n",
      "---  ------              --------------    -----  \n",
      " 0   id                  1458644 non-null  object \n",
      " 1   vendor_id           1458644 non-null  int64  \n",
      " 2   pickup_datetime     1458644 non-null  object \n",
      " 3   dropoff_datetime    1458644 non-null  object \n",
      " 4   passenger_count     1458644 non-null  int64  \n",
      " 5   pickup_longitude    1458644 non-null  float64\n",
      " 6   pickup_latitude     1458644 non-null  float64\n",
      " 7   dropoff_longitude   1458644 non-null  float64\n",
      " 8   dropoff_latitude    1458644 non-null  float64\n",
      " 9   store_and_fwd_flag  1458644 non-null  object \n",
      " 10  trip_duration       1458644 non-null  int64  \n",
      "dtypes: float64(4), int64(3), object(4)\n",
      "memory usage: 122.4+ MB\n"
     ]
    }
   ],
   "source": [
    "train.info()"
   ]
  },
  {
   "cell_type": "code",
   "execution_count": 5,
   "id": "dc1cddce",
   "metadata": {
    "execution": {
     "iopub.execute_input": "2023-10-11T23:26:58.345401Z",
     "iopub.status.busy": "2023-10-11T23:26:58.345004Z",
     "iopub.status.idle": "2023-10-11T23:26:58.654583Z",
     "shell.execute_reply": "2023-10-11T23:26:58.653575Z"
    },
    "papermill": {
     "duration": 0.320796,
     "end_time": "2023-10-11T23:26:58.656764",
     "exception": false,
     "start_time": "2023-10-11T23:26:58.335968",
     "status": "completed"
    },
    "tags": []
   },
   "outputs": [
    {
     "data": {
      "text/plain": [
       "id                    0\n",
       "vendor_id             0\n",
       "pickup_datetime       0\n",
       "dropoff_datetime      0\n",
       "passenger_count       0\n",
       "pickup_longitude      0\n",
       "pickup_latitude       0\n",
       "dropoff_longitude     0\n",
       "dropoff_latitude      0\n",
       "store_and_fwd_flag    0\n",
       "trip_duration         0\n",
       "dtype: int64"
      ]
     },
     "execution_count": 5,
     "metadata": {},
     "output_type": "execute_result"
    }
   ],
   "source": [
    "train.isnull().sum()"
   ]
  },
  {
   "cell_type": "code",
   "execution_count": 6,
   "id": "4262204c",
   "metadata": {
    "execution": {
     "iopub.execute_input": "2023-10-11T23:26:58.674288Z",
     "iopub.status.busy": "2023-10-11T23:26:58.673559Z",
     "iopub.status.idle": "2023-10-11T23:26:58.692885Z",
     "shell.execute_reply": "2023-10-11T23:26:58.691947Z"
    },
    "papermill": {
     "duration": 0.030236,
     "end_time": "2023-10-11T23:26:58.694894",
     "exception": false,
     "start_time": "2023-10-11T23:26:58.664658",
     "status": "completed"
    },
    "tags": []
   },
   "outputs": [
    {
     "data": {
      "text/html": [
       "<div>\n",
       "<style scoped>\n",
       "    .dataframe tbody tr th:only-of-type {\n",
       "        vertical-align: middle;\n",
       "    }\n",
       "\n",
       "    .dataframe tbody tr th {\n",
       "        vertical-align: top;\n",
       "    }\n",
       "\n",
       "    .dataframe thead th {\n",
       "        text-align: right;\n",
       "    }\n",
       "</style>\n",
       "<table border=\"1\" class=\"dataframe\">\n",
       "  <thead>\n",
       "    <tr style=\"text-align: right;\">\n",
       "      <th></th>\n",
       "      <th>id</th>\n",
       "      <th>vendor_id</th>\n",
       "      <th>pickup_datetime</th>\n",
       "      <th>dropoff_datetime</th>\n",
       "      <th>passenger_count</th>\n",
       "      <th>pickup_longitude</th>\n",
       "      <th>pickup_latitude</th>\n",
       "      <th>dropoff_longitude</th>\n",
       "      <th>dropoff_latitude</th>\n",
       "      <th>store_and_fwd_flag</th>\n",
       "      <th>trip_duration</th>\n",
       "    </tr>\n",
       "  </thead>\n",
       "  <tbody>\n",
       "    <tr>\n",
       "      <th>0</th>\n",
       "      <td>id2875421</td>\n",
       "      <td>2</td>\n",
       "      <td>2016-03-14 17:24:55</td>\n",
       "      <td>2016-03-14 17:32:30</td>\n",
       "      <td>1</td>\n",
       "      <td>-73.982155</td>\n",
       "      <td>40.767937</td>\n",
       "      <td>-73.964630</td>\n",
       "      <td>40.765602</td>\n",
       "      <td>N</td>\n",
       "      <td>455</td>\n",
       "    </tr>\n",
       "    <tr>\n",
       "      <th>1</th>\n",
       "      <td>id2377394</td>\n",
       "      <td>1</td>\n",
       "      <td>2016-06-12 00:43:35</td>\n",
       "      <td>2016-06-12 00:54:38</td>\n",
       "      <td>1</td>\n",
       "      <td>-73.980415</td>\n",
       "      <td>40.738564</td>\n",
       "      <td>-73.999481</td>\n",
       "      <td>40.731152</td>\n",
       "      <td>N</td>\n",
       "      <td>663</td>\n",
       "    </tr>\n",
       "    <tr>\n",
       "      <th>2</th>\n",
       "      <td>id3858529</td>\n",
       "      <td>2</td>\n",
       "      <td>2016-01-19 11:35:24</td>\n",
       "      <td>2016-01-19 12:10:48</td>\n",
       "      <td>1</td>\n",
       "      <td>-73.979027</td>\n",
       "      <td>40.763939</td>\n",
       "      <td>-74.005333</td>\n",
       "      <td>40.710087</td>\n",
       "      <td>N</td>\n",
       "      <td>2124</td>\n",
       "    </tr>\n",
       "    <tr>\n",
       "      <th>3</th>\n",
       "      <td>id3504673</td>\n",
       "      <td>2</td>\n",
       "      <td>2016-04-06 19:32:31</td>\n",
       "      <td>2016-04-06 19:39:40</td>\n",
       "      <td>1</td>\n",
       "      <td>-74.010040</td>\n",
       "      <td>40.719971</td>\n",
       "      <td>-74.012268</td>\n",
       "      <td>40.706718</td>\n",
       "      <td>N</td>\n",
       "      <td>429</td>\n",
       "    </tr>\n",
       "    <tr>\n",
       "      <th>4</th>\n",
       "      <td>id2181028</td>\n",
       "      <td>2</td>\n",
       "      <td>2016-03-26 13:30:55</td>\n",
       "      <td>2016-03-26 13:38:10</td>\n",
       "      <td>1</td>\n",
       "      <td>-73.973053</td>\n",
       "      <td>40.793209</td>\n",
       "      <td>-73.972923</td>\n",
       "      <td>40.782520</td>\n",
       "      <td>N</td>\n",
       "      <td>435</td>\n",
       "    </tr>\n",
       "  </tbody>\n",
       "</table>\n",
       "</div>"
      ],
      "text/plain": [
       "          id  vendor_id      pickup_datetime     dropoff_datetime  \\\n",
       "0  id2875421          2  2016-03-14 17:24:55  2016-03-14 17:32:30   \n",
       "1  id2377394          1  2016-06-12 00:43:35  2016-06-12 00:54:38   \n",
       "2  id3858529          2  2016-01-19 11:35:24  2016-01-19 12:10:48   \n",
       "3  id3504673          2  2016-04-06 19:32:31  2016-04-06 19:39:40   \n",
       "4  id2181028          2  2016-03-26 13:30:55  2016-03-26 13:38:10   \n",
       "\n",
       "   passenger_count  pickup_longitude  pickup_latitude  dropoff_longitude  \\\n",
       "0                1        -73.982155        40.767937         -73.964630   \n",
       "1                1        -73.980415        40.738564         -73.999481   \n",
       "2                1        -73.979027        40.763939         -74.005333   \n",
       "3                1        -74.010040        40.719971         -74.012268   \n",
       "4                1        -73.973053        40.793209         -73.972923   \n",
       "\n",
       "   dropoff_latitude store_and_fwd_flag  trip_duration  \n",
       "0         40.765602                  N            455  \n",
       "1         40.731152                  N            663  \n",
       "2         40.710087                  N           2124  \n",
       "3         40.706718                  N            429  \n",
       "4         40.782520                  N            435  "
      ]
     },
     "execution_count": 6,
     "metadata": {},
     "output_type": "execute_result"
    }
   ],
   "source": [
    "train.head()"
   ]
  },
  {
   "cell_type": "code",
   "execution_count": 7,
   "id": "de320d1c",
   "metadata": {
    "execution": {
     "iopub.execute_input": "2023-10-11T23:26:58.712742Z",
     "iopub.status.busy": "2023-10-11T23:26:58.712361Z",
     "iopub.status.idle": "2023-10-11T23:26:59.103900Z",
     "shell.execute_reply": "2023-10-11T23:26:59.102638Z"
    },
    "papermill": {
     "duration": 0.402712,
     "end_time": "2023-10-11T23:26:59.105940",
     "exception": false,
     "start_time": "2023-10-11T23:26:58.703228",
     "status": "completed"
    },
    "tags": []
   },
   "outputs": [
    {
     "name": "stdout",
     "output_type": "stream",
     "text": [
      "1458644\n",
      "2\n"
     ]
    }
   ],
   "source": [
    "print(len(train.id.unique()))\n",
    "print(len(train.vendor_id.unique()))"
   ]
  },
  {
   "cell_type": "code",
   "execution_count": 8,
   "id": "57362bc0",
   "metadata": {
    "execution": {
     "iopub.execute_input": "2023-10-11T23:26:59.123560Z",
     "iopub.status.busy": "2023-10-11T23:26:59.123143Z",
     "iopub.status.idle": "2023-10-11T23:26:59.137883Z",
     "shell.execute_reply": "2023-10-11T23:26:59.136995Z"
    },
    "papermill": {
     "duration": 0.026075,
     "end_time": "2023-10-11T23:26:59.140177",
     "exception": false,
     "start_time": "2023-10-11T23:26:59.114102",
     "status": "completed"
    },
    "tags": []
   },
   "outputs": [
    {
     "data": {
      "text/plain": [
       "array([2, 1])"
      ]
     },
     "execution_count": 8,
     "metadata": {},
     "output_type": "execute_result"
    }
   ],
   "source": [
    "train.vendor_id.unique()"
   ]
  },
  {
   "cell_type": "code",
   "execution_count": 9,
   "id": "725167c2",
   "metadata": {
    "execution": {
     "iopub.execute_input": "2023-10-11T23:26:59.158175Z",
     "iopub.status.busy": "2023-10-11T23:26:59.157781Z",
     "iopub.status.idle": "2023-10-11T23:26:59.172155Z",
     "shell.execute_reply": "2023-10-11T23:26:59.171136Z"
    },
    "papermill": {
     "duration": 0.025605,
     "end_time": "2023-10-11T23:26:59.173970",
     "exception": false,
     "start_time": "2023-10-11T23:26:59.148365",
     "status": "completed"
    },
    "tags": []
   },
   "outputs": [
    {
     "data": {
      "text/plain": [
       "array([1, 6, 4, 2, 3, 5, 0, 7, 9, 8])"
      ]
     },
     "execution_count": 9,
     "metadata": {},
     "output_type": "execute_result"
    }
   ],
   "source": [
    "train.passenger_count.unique()"
   ]
  },
  {
   "cell_type": "code",
   "execution_count": 10,
   "id": "043328b1",
   "metadata": {
    "execution": {
     "iopub.execute_input": "2023-10-11T23:26:59.191898Z",
     "iopub.status.busy": "2023-10-11T23:26:59.191484Z",
     "iopub.status.idle": "2023-10-11T23:26:59.560857Z",
     "shell.execute_reply": "2023-10-11T23:26:59.559971Z"
    },
    "papermill": {
     "duration": 0.380859,
     "end_time": "2023-10-11T23:26:59.563004",
     "exception": false,
     "start_time": "2023-10-11T23:26:59.182145",
     "status": "completed"
    },
    "tags": []
   },
   "outputs": [],
   "source": [
    "train = train[(train.passenger_count > 0)]\n",
    "train = train[(train.passenger_count <7 )]"
   ]
  },
  {
   "cell_type": "code",
   "execution_count": 11,
   "id": "228c28f5",
   "metadata": {
    "execution": {
     "iopub.execute_input": "2023-10-11T23:26:59.581438Z",
     "iopub.status.busy": "2023-10-11T23:26:59.581013Z",
     "iopub.status.idle": "2023-10-11T23:27:01.134130Z",
     "shell.execute_reply": "2023-10-11T23:27:01.133140Z"
    },
    "papermill": {
     "duration": 1.564969,
     "end_time": "2023-10-11T23:27:01.136481",
     "exception": false,
     "start_time": "2023-10-11T23:26:59.571512",
     "status": "completed"
    },
    "tags": []
   },
   "outputs": [],
   "source": [
    "train['pickup_datetime'] = pd.to_datetime(train['pickup_datetime'])\n",
    "\n",
    "data = [train]\n",
    "for i in data:\n",
    "    i['Year'] = i['pickup_datetime'].dt.year\n",
    "    i['Month'] = i['pickup_datetime'].dt.month\n",
    "    i['Date'] = i['pickup_datetime'].dt.day\n",
    "    i['Day of Week'] = i['pickup_datetime'].dt.day_name()\n",
    "    i['Hour'] = i['pickup_datetime'].dt.hour"
   ]
  },
  {
   "cell_type": "code",
   "execution_count": 12,
   "id": "b7dd7268",
   "metadata": {
    "execution": {
     "iopub.execute_input": "2023-10-11T23:27:01.155527Z",
     "iopub.status.busy": "2023-10-11T23:27:01.155042Z",
     "iopub.status.idle": "2023-10-11T23:27:01.507594Z",
     "shell.execute_reply": "2023-10-11T23:27:01.506474Z"
    },
    "papermill": {
     "duration": 0.364667,
     "end_time": "2023-10-11T23:27:01.509588",
     "exception": false,
     "start_time": "2023-10-11T23:27:01.144921",
     "status": "completed"
    },
    "tags": []
   },
   "outputs": [
    {
     "name": "stdout",
     "output_type": "stream",
     "text": [
      "<class 'pandas.core.frame.DataFrame'>\n",
      "Int64Index: 1458579 entries, 0 to 1458643\n",
      "Data columns (total 16 columns):\n",
      " #   Column              Non-Null Count    Dtype         \n",
      "---  ------              --------------    -----         \n",
      " 0   id                  1458579 non-null  object        \n",
      " 1   vendor_id           1458579 non-null  int64         \n",
      " 2   pickup_datetime     1458579 non-null  datetime64[ns]\n",
      " 3   dropoff_datetime    1458579 non-null  object        \n",
      " 4   passenger_count     1458579 non-null  int64         \n",
      " 5   pickup_longitude    1458579 non-null  float64       \n",
      " 6   pickup_latitude     1458579 non-null  float64       \n",
      " 7   dropoff_longitude   1458579 non-null  float64       \n",
      " 8   dropoff_latitude    1458579 non-null  float64       \n",
      " 9   store_and_fwd_flag  1458579 non-null  object        \n",
      " 10  trip_duration       1458579 non-null  int64         \n",
      " 11  Year                1458579 non-null  int64         \n",
      " 12  Month               1458579 non-null  int64         \n",
      " 13  Date                1458579 non-null  int64         \n",
      " 14  Day of Week         1458579 non-null  object        \n",
      " 15  Hour                1458579 non-null  int64         \n",
      "dtypes: datetime64[ns](1), float64(4), int64(7), object(4)\n",
      "memory usage: 189.2+ MB\n"
     ]
    }
   ],
   "source": [
    "train.info()"
   ]
  },
  {
   "cell_type": "code",
   "execution_count": 13,
   "id": "b507f184",
   "metadata": {
    "execution": {
     "iopub.execute_input": "2023-10-11T23:27:01.528695Z",
     "iopub.status.busy": "2023-10-11T23:27:01.527746Z",
     "iopub.status.idle": "2023-10-11T23:27:01.544567Z",
     "shell.execute_reply": "2023-10-11T23:27:01.543501Z"
    },
    "papermill": {
     "duration": 0.028555,
     "end_time": "2023-10-11T23:27:01.546667",
     "exception": false,
     "start_time": "2023-10-11T23:27:01.518112",
     "status": "completed"
    },
    "tags": []
   },
   "outputs": [
    {
     "data": {
      "text/html": [
       "<div>\n",
       "<style scoped>\n",
       "    .dataframe tbody tr th:only-of-type {\n",
       "        vertical-align: middle;\n",
       "    }\n",
       "\n",
       "    .dataframe tbody tr th {\n",
       "        vertical-align: top;\n",
       "    }\n",
       "\n",
       "    .dataframe thead th {\n",
       "        text-align: right;\n",
       "    }\n",
       "</style>\n",
       "<table border=\"1\" class=\"dataframe\">\n",
       "  <thead>\n",
       "    <tr style=\"text-align: right;\">\n",
       "      <th></th>\n",
       "      <th>id</th>\n",
       "      <th>vendor_id</th>\n",
       "      <th>pickup_datetime</th>\n",
       "      <th>dropoff_datetime</th>\n",
       "      <th>passenger_count</th>\n",
       "      <th>pickup_longitude</th>\n",
       "      <th>pickup_latitude</th>\n",
       "      <th>dropoff_longitude</th>\n",
       "      <th>dropoff_latitude</th>\n",
       "      <th>store_and_fwd_flag</th>\n",
       "      <th>trip_duration</th>\n",
       "      <th>Year</th>\n",
       "      <th>Month</th>\n",
       "      <th>Date</th>\n",
       "      <th>Day of Week</th>\n",
       "      <th>Hour</th>\n",
       "    </tr>\n",
       "  </thead>\n",
       "  <tbody>\n",
       "    <tr>\n",
       "      <th>0</th>\n",
       "      <td>id2875421</td>\n",
       "      <td>2</td>\n",
       "      <td>2016-03-14 17:24:55</td>\n",
       "      <td>2016-03-14 17:32:30</td>\n",
       "      <td>1</td>\n",
       "      <td>-73.982155</td>\n",
       "      <td>40.767937</td>\n",
       "      <td>-73.964630</td>\n",
       "      <td>40.765602</td>\n",
       "      <td>N</td>\n",
       "      <td>455</td>\n",
       "      <td>2016</td>\n",
       "      <td>3</td>\n",
       "      <td>14</td>\n",
       "      <td>Monday</td>\n",
       "      <td>17</td>\n",
       "    </tr>\n",
       "    <tr>\n",
       "      <th>1</th>\n",
       "      <td>id2377394</td>\n",
       "      <td>1</td>\n",
       "      <td>2016-06-12 00:43:35</td>\n",
       "      <td>2016-06-12 00:54:38</td>\n",
       "      <td>1</td>\n",
       "      <td>-73.980415</td>\n",
       "      <td>40.738564</td>\n",
       "      <td>-73.999481</td>\n",
       "      <td>40.731152</td>\n",
       "      <td>N</td>\n",
       "      <td>663</td>\n",
       "      <td>2016</td>\n",
       "      <td>6</td>\n",
       "      <td>12</td>\n",
       "      <td>Sunday</td>\n",
       "      <td>0</td>\n",
       "    </tr>\n",
       "    <tr>\n",
       "      <th>2</th>\n",
       "      <td>id3858529</td>\n",
       "      <td>2</td>\n",
       "      <td>2016-01-19 11:35:24</td>\n",
       "      <td>2016-01-19 12:10:48</td>\n",
       "      <td>1</td>\n",
       "      <td>-73.979027</td>\n",
       "      <td>40.763939</td>\n",
       "      <td>-74.005333</td>\n",
       "      <td>40.710087</td>\n",
       "      <td>N</td>\n",
       "      <td>2124</td>\n",
       "      <td>2016</td>\n",
       "      <td>1</td>\n",
       "      <td>19</td>\n",
       "      <td>Tuesday</td>\n",
       "      <td>11</td>\n",
       "    </tr>\n",
       "    <tr>\n",
       "      <th>3</th>\n",
       "      <td>id3504673</td>\n",
       "      <td>2</td>\n",
       "      <td>2016-04-06 19:32:31</td>\n",
       "      <td>2016-04-06 19:39:40</td>\n",
       "      <td>1</td>\n",
       "      <td>-74.010040</td>\n",
       "      <td>40.719971</td>\n",
       "      <td>-74.012268</td>\n",
       "      <td>40.706718</td>\n",
       "      <td>N</td>\n",
       "      <td>429</td>\n",
       "      <td>2016</td>\n",
       "      <td>4</td>\n",
       "      <td>6</td>\n",
       "      <td>Wednesday</td>\n",
       "      <td>19</td>\n",
       "    </tr>\n",
       "    <tr>\n",
       "      <th>4</th>\n",
       "      <td>id2181028</td>\n",
       "      <td>2</td>\n",
       "      <td>2016-03-26 13:30:55</td>\n",
       "      <td>2016-03-26 13:38:10</td>\n",
       "      <td>1</td>\n",
       "      <td>-73.973053</td>\n",
       "      <td>40.793209</td>\n",
       "      <td>-73.972923</td>\n",
       "      <td>40.782520</td>\n",
       "      <td>N</td>\n",
       "      <td>435</td>\n",
       "      <td>2016</td>\n",
       "      <td>3</td>\n",
       "      <td>26</td>\n",
       "      <td>Saturday</td>\n",
       "      <td>13</td>\n",
       "    </tr>\n",
       "  </tbody>\n",
       "</table>\n",
       "</div>"
      ],
      "text/plain": [
       "          id  vendor_id     pickup_datetime     dropoff_datetime  \\\n",
       "0  id2875421          2 2016-03-14 17:24:55  2016-03-14 17:32:30   \n",
       "1  id2377394          1 2016-06-12 00:43:35  2016-06-12 00:54:38   \n",
       "2  id3858529          2 2016-01-19 11:35:24  2016-01-19 12:10:48   \n",
       "3  id3504673          2 2016-04-06 19:32:31  2016-04-06 19:39:40   \n",
       "4  id2181028          2 2016-03-26 13:30:55  2016-03-26 13:38:10   \n",
       "\n",
       "   passenger_count  pickup_longitude  pickup_latitude  dropoff_longitude  \\\n",
       "0                1        -73.982155        40.767937         -73.964630   \n",
       "1                1        -73.980415        40.738564         -73.999481   \n",
       "2                1        -73.979027        40.763939         -74.005333   \n",
       "3                1        -74.010040        40.719971         -74.012268   \n",
       "4                1        -73.973053        40.793209         -73.972923   \n",
       "\n",
       "   dropoff_latitude store_and_fwd_flag  trip_duration  Year  Month  Date  \\\n",
       "0         40.765602                  N            455  2016      3    14   \n",
       "1         40.731152                  N            663  2016      6    12   \n",
       "2         40.710087                  N           2124  2016      1    19   \n",
       "3         40.706718                  N            429  2016      4     6   \n",
       "4         40.782520                  N            435  2016      3    26   \n",
       "\n",
       "  Day of Week  Hour  \n",
       "0      Monday    17  \n",
       "1      Sunday     0  \n",
       "2     Tuesday    11  \n",
       "3   Wednesday    19  \n",
       "4    Saturday    13  "
      ]
     },
     "execution_count": 13,
     "metadata": {},
     "output_type": "execute_result"
    }
   ],
   "source": [
    "train.head()"
   ]
  },
  {
   "cell_type": "code",
   "execution_count": 14,
   "id": "3f91c665",
   "metadata": {
    "execution": {
     "iopub.execute_input": "2023-10-11T23:27:01.566253Z",
     "iopub.status.busy": "2023-10-11T23:27:01.565875Z",
     "iopub.status.idle": "2023-10-11T23:27:02.985947Z",
     "shell.execute_reply": "2023-10-11T23:27:02.984945Z"
    },
    "papermill": {
     "duration": 1.432103,
     "end_time": "2023-10-11T23:27:02.987924",
     "exception": false,
     "start_time": "2023-10-11T23:27:01.555821",
     "status": "completed"
    },
    "tags": []
   },
   "outputs": [
    {
     "name": "stderr",
     "output_type": "stream",
     "text": [
      "/opt/conda/lib/python3.7/site-packages/seaborn/_decorators.py:43: FutureWarning: Pass the following variable as a keyword arg: x. From version 0.12, the only valid positional argument will be `data`, and passing other arguments without an explicit keyword will result in an error or misinterpretation.\n",
      "  FutureWarning\n"
     ]
    },
    {
     "data": {
      "image/png": "[encoded data removed]",
      "text/plain": [
       "<Figure size 432x288 with 1 Axes>"
      ]
     },
     "metadata": {
      "needs_background": "light"
     },
     "output_type": "display_data"
    }
   ],
   "source": [
    "import seaborn as sns\n",
    "\n",
    "ax = sns.boxplot(train[\"trip_duration\"])"
   ]
  },
  {
   "cell_type": "code",
   "execution_count": 15,
   "id": "66f5774e",
   "metadata": {
    "execution": {
     "iopub.execute_input": "2023-10-11T23:27:03.009919Z",
     "iopub.status.busy": "2023-10-11T23:27:03.008825Z",
     "iopub.status.idle": "2023-10-11T23:27:03.066847Z",
     "shell.execute_reply": "2023-10-11T23:27:03.065859Z"
    },
    "papermill": {
     "duration": 0.072231,
     "end_time": "2023-10-11T23:27:03.069114",
     "exception": false,
     "start_time": "2023-10-11T23:27:02.996883",
     "status": "completed"
    },
    "tags": []
   },
   "outputs": [
    {
     "data": {
      "text/plain": [
       "count    1.458579e+06\n",
       "mean     9.594638e+02\n",
       "std      5.237073e+03\n",
       "min      1.000000e+00\n",
       "25%      3.970000e+02\n",
       "50%      6.620000e+02\n",
       "75%      1.075000e+03\n",
       "max      3.526282e+06\n",
       "Name: trip_duration, dtype: float64"
      ]
     },
     "execution_count": 15,
     "metadata": {},
     "output_type": "execute_result"
    }
   ],
   "source": [
    "train.trip_duration.describe()"
   ]
  },
  {
   "cell_type": "code",
   "execution_count": 16,
   "id": "ba5fc21f",
   "metadata": {
    "execution": {
     "iopub.execute_input": "2023-10-11T23:27:03.089573Z",
     "iopub.status.busy": "2023-10-11T23:27:03.089185Z",
     "iopub.status.idle": "2023-10-11T23:27:03.444977Z",
     "shell.execute_reply": "2023-10-11T23:27:03.444002Z"
    },
    "papermill": {
     "duration": 0.368351,
     "end_time": "2023-10-11T23:27:03.446962",
     "exception": false,
     "start_time": "2023-10-11T23:27:03.078611",
     "status": "completed"
    },
    "tags": []
   },
   "outputs": [
    {
     "data": {
      "text/plain": [
       "4"
      ]
     },
     "execution_count": 16,
     "metadata": {},
     "output_type": "execute_result"
    }
   ],
   "source": [
    "len(train[(train.trip_duration > 100000)])"
   ]
  },
  {
   "cell_type": "code",
   "execution_count": 17,
   "id": "d2752bcb",
   "metadata": {
    "execution": {
     "iopub.execute_input": "2023-10-11T23:27:03.466815Z",
     "iopub.status.busy": "2023-10-11T23:27:03.466424Z",
     "iopub.status.idle": "2023-10-11T23:27:03.896143Z",
     "shell.execute_reply": "2023-10-11T23:27:03.895160Z"
    },
    "papermill": {
     "duration": 0.442109,
     "end_time": "2023-10-11T23:27:03.898297",
     "exception": false,
     "start_time": "2023-10-11T23:27:03.456188",
     "status": "completed"
    },
    "tags": []
   },
   "outputs": [
    {
     "data": {
      "image/png": "[encoded data removed]",
      "text/plain": [
       "<Figure size 432x288 with 1 Axes>"
      ]
     },
     "metadata": {
      "needs_background": "light"
     },
     "output_type": "display_data"
    }
   ],
   "source": [
    "ax = sns.boxplot(x=train[\"vendor_id\"],y=train[\"trip_duration\"])"
   ]
  },
  {
   "cell_type": "code",
   "execution_count": 18,
   "id": "9c2dfd6e",
   "metadata": {
    "execution": {
     "iopub.execute_input": "2023-10-11T23:27:03.918549Z",
     "iopub.status.busy": "2023-10-11T23:27:03.918155Z",
     "iopub.status.idle": "2023-10-11T23:27:04.660082Z",
     "shell.execute_reply": "2023-10-11T23:27:04.659142Z"
    },
    "papermill": {
     "duration": 0.754302,
     "end_time": "2023-10-11T23:27:04.662204",
     "exception": false,
     "start_time": "2023-10-11T23:27:03.907902",
     "status": "completed"
    },
    "tags": []
   },
   "outputs": [
    {
     "data": {
      "image/png": "[encoded data removed]",
      "text/plain": [
       "<Figure size 432x288 with 1 Axes>"
      ]
     },
     "metadata": {
      "needs_background": "light"
     },
     "output_type": "display_data"
    }
   ],
   "source": [
    "train_box = train[(train.trip_duration < 10000)]\n",
    "\n",
    "ax = sns.boxplot(x=train[\"vendor_id\"],y=train_box[\"trip_duration\"])"
   ]
  },
  {
   "cell_type": "code",
   "execution_count": 19,
   "id": "bff2c011",
   "metadata": {
    "execution": {
     "iopub.execute_input": "2023-10-11T23:27:04.683150Z",
     "iopub.status.busy": "2023-10-11T23:27:04.682708Z",
     "iopub.status.idle": "2023-10-11T23:27:07.402339Z",
     "shell.execute_reply": "2023-10-11T23:27:07.401145Z"
    },
    "papermill": {
     "duration": 2.732614,
     "end_time": "2023-10-11T23:27:07.404568",
     "exception": false,
     "start_time": "2023-10-11T23:27:04.671954",
     "status": "completed"
    },
    "tags": []
   },
   "outputs": [
    {
     "data": {
      "text/plain": [
       "<AxesSubplot:xlabel='passenger_count', ylabel='trip_duration'>"
      ]
     },
     "execution_count": 19,
     "metadata": {},
     "output_type": "execute_result"
    },
    {
     "data": {
      "image/png": "[encoded data removed]",
      "text/plain": [
       "<Figure size 432x288 with 1 Axes>"
      ]
     },
     "metadata": {
      "needs_background": "light"
     },
     "output_type": "display_data"
    }
   ],
   "source": [
    "sns.scatterplot(x=train['passenger_count'], y=train['trip_duration'])"
   ]
  },
  {
   "cell_type": "code",
   "execution_count": 20,
   "id": "7fc6e678",
   "metadata": {
    "execution": {
     "iopub.execute_input": "2023-10-11T23:27:07.426441Z",
     "iopub.status.busy": "2023-10-11T23:27:07.426011Z",
     "iopub.status.idle": "2023-10-11T23:27:07.592445Z",
     "shell.execute_reply": "2023-10-11T23:27:07.591515Z"
    },
    "papermill": {
     "duration": 0.179717,
     "end_time": "2023-10-11T23:27:07.594443",
     "exception": false,
     "start_time": "2023-10-11T23:27:07.414726",
     "status": "completed"
    },
    "tags": []
   },
   "outputs": [
    {
     "data": {
      "text/html": [
       "<div>\n",
       "<style scoped>\n",
       "    .dataframe tbody tr th:only-of-type {\n",
       "        vertical-align: middle;\n",
       "    }\n",
       "\n",
       "    .dataframe tbody tr th {\n",
       "        vertical-align: top;\n",
       "    }\n",
       "\n",
       "    .dataframe thead tr th {\n",
       "        text-align: left;\n",
       "    }\n",
       "\n",
       "    .dataframe thead tr:last-of-type th {\n",
       "        text-align: right;\n",
       "    }\n",
       "</style>\n",
       "<table border=\"1\" class=\"dataframe\">\n",
       "  <thead>\n",
       "    <tr>\n",
       "      <th></th>\n",
       "      <th colspan=\"8\" halign=\"left\">trip_duration</th>\n",
       "    </tr>\n",
       "    <tr>\n",
       "      <th></th>\n",
       "      <th>count</th>\n",
       "      <th>mean</th>\n",
       "      <th>std</th>\n",
       "      <th>min</th>\n",
       "      <th>25%</th>\n",
       "      <th>50%</th>\n",
       "      <th>75%</th>\n",
       "      <th>max</th>\n",
       "    </tr>\n",
       "    <tr>\n",
       "      <th>passenger_count</th>\n",
       "      <th></th>\n",
       "      <th></th>\n",
       "      <th></th>\n",
       "      <th></th>\n",
       "      <th></th>\n",
       "      <th></th>\n",
       "      <th></th>\n",
       "      <th></th>\n",
       "    </tr>\n",
       "  </thead>\n",
       "  <tbody>\n",
       "    <tr>\n",
       "      <th>1</th>\n",
       "      <td>1033540.0</td>\n",
       "      <td>930.399753</td>\n",
       "      <td>5386.716170</td>\n",
       "      <td>1.0</td>\n",
       "      <td>391.0</td>\n",
       "      <td>654.0</td>\n",
       "      <td>1062.00</td>\n",
       "      <td>3526282.0</td>\n",
       "    </tr>\n",
       "    <tr>\n",
       "      <th>2</th>\n",
       "      <td>210318.0</td>\n",
       "      <td>1005.458335</td>\n",
       "      <td>5496.549848</td>\n",
       "      <td>1.0</td>\n",
       "      <td>416.0</td>\n",
       "      <td>689.0</td>\n",
       "      <td>1122.00</td>\n",
       "      <td>2049578.0</td>\n",
       "    </tr>\n",
       "    <tr>\n",
       "      <th>3</th>\n",
       "      <td>59896.0</td>\n",
       "      <td>1028.236276</td>\n",
       "      <td>3718.677364</td>\n",
       "      <td>2.0</td>\n",
       "      <td>418.0</td>\n",
       "      <td>688.0</td>\n",
       "      <td>1111.00</td>\n",
       "      <td>86365.0</td>\n",
       "    </tr>\n",
       "    <tr>\n",
       "      <th>4</th>\n",
       "      <td>28404.0</td>\n",
       "      <td>1053.529749</td>\n",
       "      <td>3789.656142</td>\n",
       "      <td>2.0</td>\n",
       "      <td>423.0</td>\n",
       "      <td>698.0</td>\n",
       "      <td>1135.25</td>\n",
       "      <td>86379.0</td>\n",
       "    </tr>\n",
       "    <tr>\n",
       "      <th>5</th>\n",
       "      <td>78088.0</td>\n",
       "      <td>1070.232174</td>\n",
       "      <td>4379.508301</td>\n",
       "      <td>2.0</td>\n",
       "      <td>401.0</td>\n",
       "      <td>670.0</td>\n",
       "      <td>1088.00</td>\n",
       "      <td>86378.0</td>\n",
       "    </tr>\n",
       "    <tr>\n",
       "      <th>6</th>\n",
       "      <td>48333.0</td>\n",
       "      <td>1061.355223</td>\n",
       "      <td>4370.262838</td>\n",
       "      <td>2.0</td>\n",
       "      <td>398.0</td>\n",
       "      <td>662.0</td>\n",
       "      <td>1075.00</td>\n",
       "      <td>86377.0</td>\n",
       "    </tr>\n",
       "  </tbody>\n",
       "</table>\n",
       "</div>"
      ],
      "text/plain": [
       "                trip_duration                                               \\\n",
       "                        count         mean          std  min    25%    50%   \n",
       "passenger_count                                                              \n",
       "1                   1033540.0   930.399753  5386.716170  1.0  391.0  654.0   \n",
       "2                    210318.0  1005.458335  5496.549848  1.0  416.0  689.0   \n",
       "3                     59896.0  1028.236276  3718.677364  2.0  418.0  688.0   \n",
       "4                     28404.0  1053.529749  3789.656142  2.0  423.0  698.0   \n",
       "5                     78088.0  1070.232174  4379.508301  2.0  401.0  670.0   \n",
       "6                     48333.0  1061.355223  4370.262838  2.0  398.0  662.0   \n",
       "\n",
       "                                     \n",
       "                     75%        max  \n",
       "passenger_count                      \n",
       "1                1062.00  3526282.0  \n",
       "2                1122.00  2049578.0  \n",
       "3                1111.00    86365.0  \n",
       "4                1135.25    86379.0  \n",
       "5                1088.00    86378.0  \n",
       "6                1075.00    86377.0  "
      ]
     },
     "execution_count": 20,
     "metadata": {},
     "output_type": "execute_result"
    }
   ],
   "source": [
    "train[['passenger_count','trip_duration']].groupby('passenger_count').describe()"
   ]
  },
  {
   "cell_type": "code",
   "execution_count": 21,
   "id": "30a6ff6d",
   "metadata": {
    "execution": {
     "iopub.execute_input": "2023-10-11T23:27:07.616085Z",
     "iopub.status.busy": "2023-10-11T23:27:07.615420Z",
     "iopub.status.idle": "2023-10-11T23:27:10.310598Z",
     "shell.execute_reply": "2023-10-11T23:27:10.309653Z"
    },
    "papermill": {
     "duration": 2.708324,
     "end_time": "2023-10-11T23:27:10.312688",
     "exception": false,
     "start_time": "2023-10-11T23:27:07.604364",
     "status": "completed"
    },
    "tags": []
   },
   "outputs": [
    {
     "data": {
      "text/plain": [
       "<AxesSubplot:xlabel='Hour', ylabel='trip_duration'>"
      ]
     },
     "execution_count": 21,
     "metadata": {},
     "output_type": "execute_result"
    },
    {
     "data": {
      "image/png": "[encoded data removed]",
      "text/plain": [
       "<Figure size 432x288 with 1 Axes>"
      ]
     },
     "metadata": {
      "needs_background": "light"
     },
     "output_type": "display_data"
    }
   ],
   "source": [
    "sns.scatterplot(x=train['Hour'], y=train['trip_duration'])"
   ]
  },
  {
   "cell_type": "code",
   "execution_count": 22,
   "id": "0328657e",
   "metadata": {
    "execution": {
     "iopub.execute_input": "2023-10-11T23:27:10.334709Z",
     "iopub.status.busy": "2023-10-11T23:27:10.334154Z",
     "iopub.status.idle": "2023-10-11T23:27:10.618119Z",
     "shell.execute_reply": "2023-10-11T23:27:10.616453Z"
    },
    "papermill": {
     "duration": 0.297623,
     "end_time": "2023-10-11T23:27:10.620425",
     "exception": false,
     "start_time": "2023-10-11T23:27:10.322802",
     "status": "completed"
    },
    "tags": []
   },
   "outputs": [
    {
     "name": "stdout",
     "output_type": "stream",
     "text": [
      "     trip_duration                                                         \\\n",
      "             count         mean           std  min    25%    50%      75%   \n",
      "Hour                                                                        \n",
      "0          53243.0   936.742088   8999.505576  1.0  389.0  646.0  1039.00   \n",
      "1          38562.0   903.287641   3733.983180  2.0  371.0  614.0   977.00   \n",
      "2          27970.0   890.100000   4003.979387  1.0  354.0  591.0   941.75   \n",
      "3          20894.0   890.110223   3961.094193  2.0  350.0  592.0   954.75   \n",
      "4          15790.0   922.092464   3976.738501  1.0  340.0  611.0  1027.00   \n",
      "5          14997.0   822.568580   2953.263904  1.0  287.0  518.0  1000.00   \n",
      "6          33247.0   797.458267  12413.323515  2.0  290.5  473.0   802.50   \n",
      "7          55600.0   831.758345   2522.785416  2.0  355.0  575.0   917.00   \n",
      "8          67051.0   924.530059   2812.670523  2.0  394.0  660.0  1069.00   \n",
      "9          67662.0   933.542668   2795.123200  1.0  405.0  680.5  1100.00   \n",
      "10         65436.0   933.381579   2734.808087  1.0  404.0  679.0  1110.00   \n",
      "11         68475.0   966.421672   2810.318026  1.0  421.0  703.0  1144.00   \n",
      "12         71870.0   993.512662   3169.684840  1.0  422.0  706.0  1146.75   \n",
      "13         71473.0  1032.246359   3397.886624  1.0  425.0  710.0  1161.00   \n",
      "14         74289.0  1075.818102   3349.438891  1.0  430.0  726.0  1196.00   \n",
      "15         71810.0  1118.848030   3641.155087  2.0  426.0  720.0  1204.00   \n",
      "16         64310.0  1078.855668   3169.478157  1.0  407.0  695.0  1187.00   \n",
      "17         76481.0  1030.607301   2965.191100  1.0  414.0  701.0  1162.00   \n",
      "18         90599.0   981.593903   3249.502584  2.0  416.0  687.0  1098.00   \n",
      "19         90301.0   894.410427   3026.990937  1.0  397.0  648.0  1021.00   \n",
      "20         84069.0   879.492274   3091.380047  1.0  391.0  634.0   995.00   \n",
      "21         84181.0   890.550492   3143.546159  2.0  398.0  642.0  1013.00   \n",
      "22         80489.0  1023.493682  14814.766839  1.0  409.0  668.0  1057.00   \n",
      "23         69780.0   925.127644   3137.865843  1.0  406.0  670.0  1082.00   \n",
      "\n",
      "                 \n",
      "            max  \n",
      "Hour             \n",
      "0     1939736.0  \n",
      "1       86355.0  \n",
      "2       86369.0  \n",
      "3       86325.0  \n",
      "4       86377.0  \n",
      "5       86277.0  \n",
      "6     2227612.0  \n",
      "7       86361.0  \n",
      "8       86362.0  \n",
      "9       86367.0  \n",
      "10      86351.0  \n",
      "11      86356.0  \n",
      "12      86361.0  \n",
      "13      86391.0  \n",
      "14      86369.0  \n",
      "15      86378.0  \n",
      "16      86387.0  \n",
      "17      86364.0  \n",
      "18      86362.0  \n",
      "19      86358.0  \n",
      "20      86369.0  \n",
      "21      86362.0  \n",
      "22    3526282.0  \n",
      "23      86392.0  \n",
      "\n",
      "trip_duration    1118.84803\n",
      "dtype: float64\n"
     ]
    }
   ],
   "source": [
    "print(train[['Hour','trip_duration']].groupby('Hour').describe())\n",
    "print()\n",
    "print(train[['Hour','trip_duration']].groupby('Hour').mean().max())"
   ]
  },
  {
   "cell_type": "code",
   "execution_count": 23,
   "id": "93a8f282",
   "metadata": {
    "execution": {
     "iopub.execute_input": "2023-10-11T23:27:10.642966Z",
     "iopub.status.busy": "2023-10-11T23:27:10.642582Z",
     "iopub.status.idle": "2023-10-11T23:27:14.378697Z",
     "shell.execute_reply": "2023-10-11T23:27:14.377809Z"
    },
    "papermill": {
     "duration": 3.749694,
     "end_time": "2023-10-11T23:27:14.380906",
     "exception": false,
     "start_time": "2023-10-11T23:27:10.631212",
     "status": "completed"
    },
    "tags": []
   },
   "outputs": [
    {
     "data": {
      "text/plain": [
       "<AxesSubplot:xlabel='Day of Week', ylabel='trip_duration'>"
      ]
     },
     "execution_count": 23,
     "metadata": {},
     "output_type": "execute_result"
    },
    {
     "data": {
      "image/png": "[encoded data removed]",
      "text/plain": [
       "<Figure size 432x288 with 1 Axes>"
      ]
     },
     "metadata": {
      "needs_background": "light"
     },
     "output_type": "display_data"
    }
   ],
   "source": [
    "sns.scatterplot(x=train['Day of Week'], y=train['trip_duration'])"
   ]
  },
  {
   "cell_type": "code",
   "execution_count": 24,
   "id": "fc470c15",
   "metadata": {
    "execution": {
     "iopub.execute_input": "2023-10-11T23:27:14.404184Z",
     "iopub.status.busy": "2023-10-11T23:27:14.403579Z",
     "iopub.status.idle": "2023-10-11T23:27:14.712262Z",
     "shell.execute_reply": "2023-10-11T23:27:14.711296Z"
    },
    "papermill": {
     "duration": 0.32253,
     "end_time": "2023-10-11T23:27:14.714232",
     "exception": false,
     "start_time": "2023-10-11T23:27:14.391702",
     "status": "completed"
    },
    "tags": []
   },
   "outputs": [
    {
     "data": {
      "text/html": [
       "<div>\n",
       "<style scoped>\n",
       "    .dataframe tbody tr th:only-of-type {\n",
       "        vertical-align: middle;\n",
       "    }\n",
       "\n",
       "    .dataframe tbody tr th {\n",
       "        vertical-align: top;\n",
       "    }\n",
       "\n",
       "    .dataframe thead tr th {\n",
       "        text-align: left;\n",
       "    }\n",
       "\n",
       "    .dataframe thead tr:last-of-type th {\n",
       "        text-align: right;\n",
       "    }\n",
       "</style>\n",
       "<table border=\"1\" class=\"dataframe\">\n",
       "  <thead>\n",
       "    <tr>\n",
       "      <th></th>\n",
       "      <th colspan=\"8\" halign=\"left\">trip_duration</th>\n",
       "    </tr>\n",
       "    <tr>\n",
       "      <th></th>\n",
       "      <th>count</th>\n",
       "      <th>mean</th>\n",
       "      <th>std</th>\n",
       "      <th>min</th>\n",
       "      <th>25%</th>\n",
       "      <th>50%</th>\n",
       "      <th>75%</th>\n",
       "      <th>max</th>\n",
       "    </tr>\n",
       "    <tr>\n",
       "      <th>Day of Week</th>\n",
       "      <th></th>\n",
       "      <th></th>\n",
       "      <th></th>\n",
       "      <th></th>\n",
       "      <th></th>\n",
       "      <th></th>\n",
       "      <th></th>\n",
       "      <th></th>\n",
       "    </tr>\n",
       "  </thead>\n",
       "  <tbody>\n",
       "    <tr>\n",
       "      <th>Friday</th>\n",
       "      <td>223521.0</td>\n",
       "      <td>990.252495</td>\n",
       "      <td>3275.055324</td>\n",
       "      <td>1.0</td>\n",
       "      <td>410.0</td>\n",
       "      <td>686.0</td>\n",
       "      <td>1112.0</td>\n",
       "      <td>86390.0</td>\n",
       "    </tr>\n",
       "    <tr>\n",
       "      <th>Monday</th>\n",
       "      <td>187408.0</td>\n",
       "      <td>897.505790</td>\n",
       "      <td>2762.521721</td>\n",
       "      <td>1.0</td>\n",
       "      <td>380.0</td>\n",
       "      <td>630.0</td>\n",
       "      <td>1027.0</td>\n",
       "      <td>86392.0</td>\n",
       "    </tr>\n",
       "    <tr>\n",
       "      <th>Saturday</th>\n",
       "      <td>220855.0</td>\n",
       "      <td>948.094854</td>\n",
       "      <td>9361.479618</td>\n",
       "      <td>1.0</td>\n",
       "      <td>386.0</td>\n",
       "      <td>637.0</td>\n",
       "      <td>1012.0</td>\n",
       "      <td>3526282.0</td>\n",
       "    </tr>\n",
       "    <tr>\n",
       "      <th>Sunday</th>\n",
       "      <td>195352.0</td>\n",
       "      <td>901.702168</td>\n",
       "      <td>3456.209790</td>\n",
       "      <td>1.0</td>\n",
       "      <td>364.0</td>\n",
       "      <td>602.0</td>\n",
       "      <td>978.0</td>\n",
       "      <td>86369.0</td>\n",
       "    </tr>\n",
       "    <tr>\n",
       "      <th>Thursday</th>\n",
       "      <td>218566.0</td>\n",
       "      <td>1006.564630</td>\n",
       "      <td>3100.434686</td>\n",
       "      <td>1.0</td>\n",
       "      <td>420.0</td>\n",
       "      <td>709.0</td>\n",
       "      <td>1155.0</td>\n",
       "      <td>86387.0</td>\n",
       "    </tr>\n",
       "    <tr>\n",
       "      <th>Tuesday</th>\n",
       "      <td>202745.0</td>\n",
       "      <td>983.482266</td>\n",
       "      <td>7235.077679</td>\n",
       "      <td>1.0</td>\n",
       "      <td>407.0</td>\n",
       "      <td>679.0</td>\n",
       "      <td>1102.0</td>\n",
       "      <td>2227612.0</td>\n",
       "    </tr>\n",
       "    <tr>\n",
       "      <th>Wednesday</th>\n",
       "      <td>210132.0</td>\n",
       "      <td>975.453986</td>\n",
       "      <td>2903.831660</td>\n",
       "      <td>1.0</td>\n",
       "      <td>416.0</td>\n",
       "      <td>694.0</td>\n",
       "      <td>1133.0</td>\n",
       "      <td>86366.0</td>\n",
       "    </tr>\n",
       "  </tbody>\n",
       "</table>\n",
       "</div>"
      ],
      "text/plain": [
       "            trip_duration                                               \\\n",
       "                    count         mean          std  min    25%    50%   \n",
       "Day of Week                                                              \n",
       "Friday           223521.0   990.252495  3275.055324  1.0  410.0  686.0   \n",
       "Monday           187408.0   897.505790  2762.521721  1.0  380.0  630.0   \n",
       "Saturday         220855.0   948.094854  9361.479618  1.0  386.0  637.0   \n",
       "Sunday           195352.0   901.702168  3456.209790  1.0  364.0  602.0   \n",
       "Thursday         218566.0  1006.564630  3100.434686  1.0  420.0  709.0   \n",
       "Tuesday          202745.0   983.482266  7235.077679  1.0  407.0  679.0   \n",
       "Wednesday        210132.0   975.453986  2903.831660  1.0  416.0  694.0   \n",
       "\n",
       "                                \n",
       "                75%        max  \n",
       "Day of Week                     \n",
       "Friday       1112.0    86390.0  \n",
       "Monday       1027.0    86392.0  \n",
       "Saturday     1012.0  3526282.0  \n",
       "Sunday        978.0    86369.0  \n",
       "Thursday     1155.0    86387.0  \n",
       "Tuesday      1102.0  2227612.0  \n",
       "Wednesday    1133.0    86366.0  "
      ]
     },
     "execution_count": 24,
     "metadata": {},
     "output_type": "execute_result"
    }
   ],
   "source": [
    "train[['Day of Week','trip_duration']].groupby('Day of Week').describe()"
   ]
  },
  {
   "cell_type": "code",
   "execution_count": 25,
   "id": "9c29a595",
   "metadata": {
    "execution": {
     "iopub.execute_input": "2023-10-11T23:27:14.737930Z",
     "iopub.status.busy": "2023-10-11T23:27:14.737567Z",
     "iopub.status.idle": "2023-10-11T23:27:14.913664Z",
     "shell.execute_reply": "2023-10-11T23:27:14.912582Z"
    },
    "papermill": {
     "duration": 0.190514,
     "end_time": "2023-10-11T23:27:14.915829",
     "exception": false,
     "start_time": "2023-10-11T23:27:14.725315",
     "status": "completed"
    },
    "tags": []
   },
   "outputs": [
    {
     "data": {
      "text/html": [
       "<div>\n",
       "<style scoped>\n",
       "    .dataframe tbody tr th:only-of-type {\n",
       "        vertical-align: middle;\n",
       "    }\n",
       "\n",
       "    .dataframe tbody tr th {\n",
       "        vertical-align: top;\n",
       "    }\n",
       "\n",
       "    .dataframe thead tr th {\n",
       "        text-align: left;\n",
       "    }\n",
       "\n",
       "    .dataframe thead tr:last-of-type th {\n",
       "        text-align: right;\n",
       "    }\n",
       "</style>\n",
       "<table border=\"1\" class=\"dataframe\">\n",
       "  <thead>\n",
       "    <tr>\n",
       "      <th></th>\n",
       "      <th colspan=\"8\" halign=\"left\">trip_duration</th>\n",
       "    </tr>\n",
       "    <tr>\n",
       "      <th></th>\n",
       "      <th>count</th>\n",
       "      <th>mean</th>\n",
       "      <th>std</th>\n",
       "      <th>min</th>\n",
       "      <th>25%</th>\n",
       "      <th>50%</th>\n",
       "      <th>75%</th>\n",
       "      <th>max</th>\n",
       "    </tr>\n",
       "    <tr>\n",
       "      <th>Month</th>\n",
       "      <th></th>\n",
       "      <th></th>\n",
       "      <th></th>\n",
       "      <th></th>\n",
       "      <th></th>\n",
       "      <th></th>\n",
       "      <th></th>\n",
       "      <th></th>\n",
       "    </tr>\n",
       "  </thead>\n",
       "  <tbody>\n",
       "    <tr>\n",
       "      <th>1</th>\n",
       "      <td>229692.0</td>\n",
       "      <td>922.391002</td>\n",
       "      <td>6906.958527</td>\n",
       "      <td>1.0</td>\n",
       "      <td>383.0</td>\n",
       "      <td>630.0</td>\n",
       "      <td>1013.0</td>\n",
       "      <td>2227612.0</td>\n",
       "    </tr>\n",
       "    <tr>\n",
       "      <th>2</th>\n",
       "      <td>238288.0</td>\n",
       "      <td>920.867140</td>\n",
       "      <td>8894.746187</td>\n",
       "      <td>1.0</td>\n",
       "      <td>384.0</td>\n",
       "      <td>636.0</td>\n",
       "      <td>1022.0</td>\n",
       "      <td>3526282.0</td>\n",
       "    </tr>\n",
       "    <tr>\n",
       "      <th>3</th>\n",
       "      <td>256179.0</td>\n",
       "      <td>937.392702</td>\n",
       "      <td>3213.271536</td>\n",
       "      <td>1.0</td>\n",
       "      <td>393.0</td>\n",
       "      <td>653.0</td>\n",
       "      <td>1052.5</td>\n",
       "      <td>86366.0</td>\n",
       "    </tr>\n",
       "    <tr>\n",
       "      <th>4</th>\n",
       "      <td>251636.0</td>\n",
       "      <td>962.919562</td>\n",
       "      <td>3158.825942</td>\n",
       "      <td>1.0</td>\n",
       "      <td>403.0</td>\n",
       "      <td>675.0</td>\n",
       "      <td>1097.0</td>\n",
       "      <td>86364.0</td>\n",
       "    </tr>\n",
       "    <tr>\n",
       "      <th>5</th>\n",
       "      <td>248474.0</td>\n",
       "      <td>999.497960</td>\n",
       "      <td>3186.851820</td>\n",
       "      <td>1.0</td>\n",
       "      <td>408.0</td>\n",
       "      <td>689.0</td>\n",
       "      <td>1133.0</td>\n",
       "      <td>86391.0</td>\n",
       "    </tr>\n",
       "    <tr>\n",
       "      <th>6</th>\n",
       "      <td>234310.0</td>\n",
       "      <td>1013.023716</td>\n",
       "      <td>3274.881704</td>\n",
       "      <td>1.0</td>\n",
       "      <td>414.0</td>\n",
       "      <td>695.0</td>\n",
       "      <td>1141.0</td>\n",
       "      <td>86387.0</td>\n",
       "    </tr>\n",
       "  </tbody>\n",
       "</table>\n",
       "</div>"
      ],
      "text/plain": [
       "      trip_duration                                                       \\\n",
       "              count         mean          std  min    25%    50%     75%   \n",
       "Month                                                                      \n",
       "1          229692.0   922.391002  6906.958527  1.0  383.0  630.0  1013.0   \n",
       "2          238288.0   920.867140  8894.746187  1.0  384.0  636.0  1022.0   \n",
       "3          256179.0   937.392702  3213.271536  1.0  393.0  653.0  1052.5   \n",
       "4          251636.0   962.919562  3158.825942  1.0  403.0  675.0  1097.0   \n",
       "5          248474.0   999.497960  3186.851820  1.0  408.0  689.0  1133.0   \n",
       "6          234310.0  1013.023716  3274.881704  1.0  414.0  695.0  1141.0   \n",
       "\n",
       "                  \n",
       "             max  \n",
       "Month             \n",
       "1      2227612.0  \n",
       "2      3526282.0  \n",
       "3        86366.0  \n",
       "4        86364.0  \n",
       "5        86391.0  \n",
       "6        86387.0  "
      ]
     },
     "execution_count": 25,
     "metadata": {},
     "output_type": "execute_result"
    }
   ],
   "source": [
    "train[['Month','trip_duration']].groupby('Month').describe()"
   ]
  },
  {
   "cell_type": "code",
   "execution_count": 26,
   "id": "51cb6ae8",
   "metadata": {
    "execution": {
     "iopub.execute_input": "2023-10-11T23:27:14.939916Z",
     "iopub.status.busy": "2023-10-11T23:27:14.939499Z",
     "iopub.status.idle": "2023-10-11T23:27:15.014791Z",
     "shell.execute_reply": "2023-10-11T23:27:15.013884Z"
    },
    "papermill": {
     "duration": 0.089632,
     "end_time": "2023-10-11T23:27:15.016730",
     "exception": false,
     "start_time": "2023-10-11T23:27:14.927098",
     "status": "completed"
    },
    "tags": []
   },
   "outputs": [
    {
     "data": {
      "text/plain": [
       "N    1450537\n",
       "Y       8042\n",
       "Name: store_and_fwd_flag, dtype: int64"
      ]
     },
     "execution_count": 26,
     "metadata": {},
     "output_type": "execute_result"
    }
   ],
   "source": [
    "train['store_and_fwd_flag'].value_counts()"
   ]
  },
  {
   "cell_type": "code",
   "execution_count": 27,
   "id": "3910c0f6",
   "metadata": {
    "execution": {
     "iopub.execute_input": "2023-10-11T23:27:15.041174Z",
     "iopub.status.busy": "2023-10-11T23:27:15.040745Z",
     "iopub.status.idle": "2023-10-11T23:27:15.986652Z",
     "shell.execute_reply": "2023-10-11T23:27:15.985496Z"
    },
    "papermill": {
     "duration": 0.960592,
     "end_time": "2023-10-11T23:27:15.988846",
     "exception": false,
     "start_time": "2023-10-11T23:27:15.028254",
     "status": "completed"
    },
    "tags": []
   },
   "outputs": [
    {
     "data": {
      "image/png": "[encoded data removed]",
      "text/plain": [
       "<Figure size 432x288 with 1 Axes>"
      ]
     },
     "metadata": {
      "needs_background": "light"
     },
     "output_type": "display_data"
    }
   ],
   "source": [
    "ax = sns.boxplot(x=train[\"store_and_fwd_flag\"],y=train_box[\"trip_duration\"])"
   ]
  },
  {
   "cell_type": "code",
   "execution_count": 28,
   "id": "9445066c",
   "metadata": {
    "execution": {
     "iopub.execute_input": "2023-10-11T23:27:16.016315Z",
     "iopub.status.busy": "2023-10-11T23:27:16.015635Z",
     "iopub.status.idle": "2023-10-11T23:27:16.294410Z",
     "shell.execute_reply": "2023-10-11T23:27:16.293547Z"
    },
    "papermill": {
     "duration": 0.294236,
     "end_time": "2023-10-11T23:27:16.296295",
     "exception": false,
     "start_time": "2023-10-11T23:27:16.002059",
     "status": "completed"
    },
    "tags": []
   },
   "outputs": [
    {
     "data": {
      "text/html": [
       "<div>\n",
       "<style scoped>\n",
       "    .dataframe tbody tr th:only-of-type {\n",
       "        vertical-align: middle;\n",
       "    }\n",
       "\n",
       "    .dataframe tbody tr th {\n",
       "        vertical-align: top;\n",
       "    }\n",
       "\n",
       "    .dataframe thead tr th {\n",
       "        text-align: left;\n",
       "    }\n",
       "\n",
       "    .dataframe thead tr:last-of-type th {\n",
       "        text-align: right;\n",
       "    }\n",
       "</style>\n",
       "<table border=\"1\" class=\"dataframe\">\n",
       "  <thead>\n",
       "    <tr>\n",
       "      <th></th>\n",
       "      <th colspan=\"8\" halign=\"left\">trip_duration</th>\n",
       "    </tr>\n",
       "    <tr>\n",
       "      <th></th>\n",
       "      <th>count</th>\n",
       "      <th>mean</th>\n",
       "      <th>std</th>\n",
       "      <th>min</th>\n",
       "      <th>25%</th>\n",
       "      <th>50%</th>\n",
       "      <th>75%</th>\n",
       "      <th>max</th>\n",
       "    </tr>\n",
       "    <tr>\n",
       "      <th>store_and_fwd_flag</th>\n",
       "      <th></th>\n",
       "      <th></th>\n",
       "      <th></th>\n",
       "      <th></th>\n",
       "      <th></th>\n",
       "      <th></th>\n",
       "      <th></th>\n",
       "      <th></th>\n",
       "    </tr>\n",
       "  </thead>\n",
       "  <tbody>\n",
       "    <tr>\n",
       "      <th>N</th>\n",
       "      <td>1450537.0</td>\n",
       "      <td>958.789165</td>\n",
       "      <td>5251.109966</td>\n",
       "      <td>1.0</td>\n",
       "      <td>397.0</td>\n",
       "      <td>662.0</td>\n",
       "      <td>1074.00</td>\n",
       "      <td>3526282.0</td>\n",
       "    </tr>\n",
       "    <tr>\n",
       "      <th>Y</th>\n",
       "      <td>8042.0</td>\n",
       "      <td>1081.156304</td>\n",
       "      <td>925.594100</td>\n",
       "      <td>2.0</td>\n",
       "      <td>456.0</td>\n",
       "      <td>813.0</td>\n",
       "      <td>1400.75</td>\n",
       "      <td>9984.0</td>\n",
       "    </tr>\n",
       "  </tbody>\n",
       "</table>\n",
       "</div>"
      ],
      "text/plain": [
       "                   trip_duration                                               \\\n",
       "                           count         mean          std  min    25%    50%   \n",
       "store_and_fwd_flag                                                              \n",
       "N                      1450537.0   958.789165  5251.109966  1.0  397.0  662.0   \n",
       "Y                         8042.0  1081.156304   925.594100  2.0  456.0  813.0   \n",
       "\n",
       "                                        \n",
       "                        75%        max  \n",
       "store_and_fwd_flag                      \n",
       "N                   1074.00  3526282.0  \n",
       "Y                   1400.75     9984.0  "
      ]
     },
     "execution_count": 28,
     "metadata": {},
     "output_type": "execute_result"
    }
   ],
   "source": [
    "train[['store_and_fwd_flag','trip_duration']].groupby('store_and_fwd_flag').describe()"
   ]
  },
  {
   "cell_type": "code",
   "execution_count": 29,
   "id": "e2c295bd",
   "metadata": {
    "execution": {
     "iopub.execute_input": "2023-10-11T23:27:16.320891Z",
     "iopub.status.busy": "2023-10-11T23:27:16.320500Z",
     "iopub.status.idle": "2023-10-11T23:27:17.568251Z",
     "shell.execute_reply": "2023-10-11T23:27:17.566938Z"
    },
    "papermill": {
     "duration": 1.263072,
     "end_time": "2023-10-11T23:27:17.570802",
     "exception": false,
     "start_time": "2023-10-11T23:27:16.307730",
     "status": "completed"
    },
    "tags": []
   },
   "outputs": [
    {
     "data": {
      "text/plain": [
       "<AxesSubplot:>"
      ]
     },
     "execution_count": 29,
     "metadata": {},
     "output_type": "execute_result"
    },
    {
     "data": {
      "image/png": "[encoded data removed]",
      "text/plain": [
       "<Figure size 720x720 with 2 Axes>"
      ]
     },
     "metadata": {
      "needs_background": "light"
     },
     "output_type": "display_data"
    }
   ],
   "source": [
    "import matplotlib.pyplot as plt\n",
    "plt.figure(figsize=(10,10))\n",
    "sns.heatmap(train.corr(),cbar=True,annot=True)"
   ]
  },
  {
   "cell_type": "code",
   "execution_count": 30,
   "id": "216d1659",
   "metadata": {
    "execution": {
     "iopub.execute_input": "2023-10-11T23:27:17.598853Z",
     "iopub.status.busy": "2023-10-11T23:27:17.598477Z",
     "iopub.status.idle": "2023-10-11T23:27:17.925059Z",
     "shell.execute_reply": "2023-10-11T23:27:17.924116Z"
    },
    "papermill": {
     "duration": 0.343161,
     "end_time": "2023-10-11T23:27:17.927269",
     "exception": false,
     "start_time": "2023-10-11T23:27:17.584108",
     "status": "completed"
    },
    "tags": []
   },
   "outputs": [
    {
     "name": "stdout",
     "output_type": "stream",
     "text": [
      "<class 'pandas.core.frame.DataFrame'>\n",
      "Int64Index: 1458579 entries, 0 to 1458643\n",
      "Data columns (total 16 columns):\n",
      " #   Column              Non-Null Count    Dtype         \n",
      "---  ------              --------------    -----         \n",
      " 0   id                  1458579 non-null  object        \n",
      " 1   vendor_id           1458579 non-null  int64         \n",
      " 2   pickup_datetime     1458579 non-null  datetime64[ns]\n",
      " 3   dropoff_datetime    1458579 non-null  object        \n",
      " 4   passenger_count     1458579 non-null  int64         \n",
      " 5   pickup_longitude    1458579 non-null  float64       \n",
      " 6   pickup_latitude     1458579 non-null  float64       \n",
      " 7   dropoff_longitude   1458579 non-null  float64       \n",
      " 8   dropoff_latitude    1458579 non-null  float64       \n",
      " 9   store_and_fwd_flag  1458579 non-null  object        \n",
      " 10  trip_duration       1458579 non-null  int64         \n",
      " 11  Year                1458579 non-null  int64         \n",
      " 12  Month               1458579 non-null  int64         \n",
      " 13  Date                1458579 non-null  int64         \n",
      " 14  Day of Week         1458579 non-null  object        \n",
      " 15  Hour                1458579 non-null  int64         \n",
      "dtypes: datetime64[ns](1), float64(4), int64(7), object(4)\n",
      "memory usage: 221.4+ MB\n"
     ]
    }
   ],
   "source": [
    "train.info()"
   ]
  },
  {
   "cell_type": "code",
   "execution_count": 31,
   "id": "fd1dca37",
   "metadata": {
    "execution": {
     "iopub.execute_input": "2023-10-11T23:27:17.954682Z",
     "iopub.status.busy": "2023-10-11T23:27:17.954306Z",
     "iopub.status.idle": "2023-10-11T23:27:20.775004Z",
     "shell.execute_reply": "2023-10-11T23:27:20.774017Z"
    },
    "papermill": {
     "duration": 2.836941,
     "end_time": "2023-10-11T23:27:20.777218",
     "exception": false,
     "start_time": "2023-10-11T23:27:17.940277",
     "status": "completed"
    },
    "tags": []
   },
   "outputs": [
    {
     "data": {
      "text/plain": [
       "<AxesSubplot:xlabel='pickup_longitude', ylabel='trip_duration'>"
      ]
     },
     "execution_count": 31,
     "metadata": {},
     "output_type": "execute_result"
    },
    {
     "data": {
      "image/png": "[encoded data removed]",
      "text/plain": [
       "<Figure size 432x288 with 1 Axes>"
      ]
     },
     "metadata": {
      "needs_background": "light"
     },
     "output_type": "display_data"
    }
   ],
   "source": [
    "sns.scatterplot(x=train['pickup_longitude'],y=train['trip_duration'])"
   ]
  },
  {
   "cell_type": "code",
   "execution_count": 32,
   "id": "3533d4f0",
   "metadata": {
    "execution": {
     "iopub.execute_input": "2023-10-11T23:27:20.806575Z",
     "iopub.status.busy": "2023-10-11T23:27:20.805929Z",
     "iopub.status.idle": "2023-10-11T23:27:20.828621Z",
     "shell.execute_reply": "2023-10-11T23:27:20.827506Z"
    },
    "papermill": {
     "duration": 0.039838,
     "end_time": "2023-10-11T23:27:20.830926",
     "exception": false,
     "start_time": "2023-10-11T23:27:20.791088",
     "status": "completed"
    },
    "tags": []
   },
   "outputs": [],
   "source": [
    "data = [train]\n",
    "for i in data:\n",
    "    i['diff_lat'] = abs(i['pickup_latitude'] - i['dropoff_latitude'])\n",
    "    i['diff_long'] = abs(i['pickup_longitude'] - i['dropoff_longitude'])"
   ]
  },
  {
   "cell_type": "code",
   "execution_count": 33,
   "id": "0085e177",
   "metadata": {
    "execution": {
     "iopub.execute_input": "2023-10-11T23:27:20.860435Z",
     "iopub.status.busy": "2023-10-11T23:27:20.859725Z",
     "iopub.status.idle": "2023-10-11T23:27:20.878326Z",
     "shell.execute_reply": "2023-10-11T23:27:20.877276Z"
    },
    "papermill": {
     "duration": 0.035597,
     "end_time": "2023-10-11T23:27:20.880325",
     "exception": false,
     "start_time": "2023-10-11T23:27:20.844728",
     "status": "completed"
    },
    "tags": []
   },
   "outputs": [
    {
     "data": {
      "text/html": [
       "<div>\n",
       "<style scoped>\n",
       "    .dataframe tbody tr th:only-of-type {\n",
       "        vertical-align: middle;\n",
       "    }\n",
       "\n",
       "    .dataframe tbody tr th {\n",
       "        vertical-align: top;\n",
       "    }\n",
       "\n",
       "    .dataframe thead th {\n",
       "        text-align: right;\n",
       "    }\n",
       "</style>\n",
       "<table border=\"1\" class=\"dataframe\">\n",
       "  <thead>\n",
       "    <tr style=\"text-align: right;\">\n",
       "      <th></th>\n",
       "      <th>id</th>\n",
       "      <th>vendor_id</th>\n",
       "      <th>pickup_datetime</th>\n",
       "      <th>dropoff_datetime</th>\n",
       "      <th>passenger_count</th>\n",
       "      <th>pickup_longitude</th>\n",
       "      <th>pickup_latitude</th>\n",
       "      <th>dropoff_longitude</th>\n",
       "      <th>dropoff_latitude</th>\n",
       "      <th>store_and_fwd_flag</th>\n",
       "      <th>trip_duration</th>\n",
       "      <th>Year</th>\n",
       "      <th>Month</th>\n",
       "      <th>Date</th>\n",
       "      <th>Day of Week</th>\n",
       "      <th>Hour</th>\n",
       "      <th>diff_lat</th>\n",
       "      <th>diff_long</th>\n",
       "    </tr>\n",
       "  </thead>\n",
       "  <tbody>\n",
       "    <tr>\n",
       "      <th>0</th>\n",
       "      <td>id2875421</td>\n",
       "      <td>2</td>\n",
       "      <td>2016-03-14 17:24:55</td>\n",
       "      <td>2016-03-14 17:32:30</td>\n",
       "      <td>1</td>\n",
       "      <td>-73.982155</td>\n",
       "      <td>40.767937</td>\n",
       "      <td>-73.964630</td>\n",
       "      <td>40.765602</td>\n",
       "      <td>N</td>\n",
       "      <td>455</td>\n",
       "      <td>2016</td>\n",
       "      <td>3</td>\n",
       "      <td>14</td>\n",
       "      <td>Monday</td>\n",
       "      <td>17</td>\n",
       "      <td>0.002335</td>\n",
       "      <td>0.017525</td>\n",
       "    </tr>\n",
       "    <tr>\n",
       "      <th>1</th>\n",
       "      <td>id2377394</td>\n",
       "      <td>1</td>\n",
       "      <td>2016-06-12 00:43:35</td>\n",
       "      <td>2016-06-12 00:54:38</td>\n",
       "      <td>1</td>\n",
       "      <td>-73.980415</td>\n",
       "      <td>40.738564</td>\n",
       "      <td>-73.999481</td>\n",
       "      <td>40.731152</td>\n",
       "      <td>N</td>\n",
       "      <td>663</td>\n",
       "      <td>2016</td>\n",
       "      <td>6</td>\n",
       "      <td>12</td>\n",
       "      <td>Sunday</td>\n",
       "      <td>0</td>\n",
       "      <td>0.007412</td>\n",
       "      <td>0.019066</td>\n",
       "    </tr>\n",
       "    <tr>\n",
       "      <th>2</th>\n",
       "      <td>id3858529</td>\n",
       "      <td>2</td>\n",
       "      <td>2016-01-19 11:35:24</td>\n",
       "      <td>2016-01-19 12:10:48</td>\n",
       "      <td>1</td>\n",
       "      <td>-73.979027</td>\n",
       "      <td>40.763939</td>\n",
       "      <td>-74.005333</td>\n",
       "      <td>40.710087</td>\n",
       "      <td>N</td>\n",
       "      <td>2124</td>\n",
       "      <td>2016</td>\n",
       "      <td>1</td>\n",
       "      <td>19</td>\n",
       "      <td>Tuesday</td>\n",
       "      <td>11</td>\n",
       "      <td>0.053852</td>\n",
       "      <td>0.026306</td>\n",
       "    </tr>\n",
       "    <tr>\n",
       "      <th>3</th>\n",
       "      <td>id3504673</td>\n",
       "      <td>2</td>\n",
       "      <td>2016-04-06 19:32:31</td>\n",
       "      <td>2016-04-06 19:39:40</td>\n",
       "      <td>1</td>\n",
       "      <td>-74.010040</td>\n",
       "      <td>40.719971</td>\n",
       "      <td>-74.012268</td>\n",
       "      <td>40.706718</td>\n",
       "      <td>N</td>\n",
       "      <td>429</td>\n",
       "      <td>2016</td>\n",
       "      <td>4</td>\n",
       "      <td>6</td>\n",
       "      <td>Wednesday</td>\n",
       "      <td>19</td>\n",
       "      <td>0.013252</td>\n",
       "      <td>0.002228</td>\n",
       "    </tr>\n",
       "    <tr>\n",
       "      <th>4</th>\n",
       "      <td>id2181028</td>\n",
       "      <td>2</td>\n",
       "      <td>2016-03-26 13:30:55</td>\n",
       "      <td>2016-03-26 13:38:10</td>\n",
       "      <td>1</td>\n",
       "      <td>-73.973053</td>\n",
       "      <td>40.793209</td>\n",
       "      <td>-73.972923</td>\n",
       "      <td>40.782520</td>\n",
       "      <td>N</td>\n",
       "      <td>435</td>\n",
       "      <td>2016</td>\n",
       "      <td>3</td>\n",
       "      <td>26</td>\n",
       "      <td>Saturday</td>\n",
       "      <td>13</td>\n",
       "      <td>0.010689</td>\n",
       "      <td>0.000130</td>\n",
       "    </tr>\n",
       "  </tbody>\n",
       "</table>\n",
       "</div>"
      ],
      "text/plain": [
       "          id  vendor_id     pickup_datetime     dropoff_datetime  \\\n",
       "0  id2875421          2 2016-03-14 17:24:55  2016-03-14 17:32:30   \n",
       "1  id2377394          1 2016-06-12 00:43:35  2016-06-12 00:54:38   \n",
       "2  id3858529          2 2016-01-19 11:35:24  2016-01-19 12:10:48   \n",
       "3  id3504673          2 2016-04-06 19:32:31  2016-04-06 19:39:40   \n",
       "4  id2181028          2 2016-03-26 13:30:55  2016-03-26 13:38:10   \n",
       "\n",
       "   passenger_count  pickup_longitude  pickup_latitude  dropoff_longitude  \\\n",
       "0                1        -73.982155        40.767937         -73.964630   \n",
       "1                1        -73.980415        40.738564         -73.999481   \n",
       "2                1        -73.979027        40.763939         -74.005333   \n",
       "3                1        -74.010040        40.719971         -74.012268   \n",
       "4                1        -73.973053        40.793209         -73.972923   \n",
       "\n",
       "   dropoff_latitude store_and_fwd_flag  trip_duration  Year  Month  Date  \\\n",
       "0         40.765602                  N            455  2016      3    14   \n",
       "1         40.731152                  N            663  2016      6    12   \n",
       "2         40.710087                  N           2124  2016      1    19   \n",
       "3         40.706718                  N            429  2016      4     6   \n",
       "4         40.782520                  N            435  2016      3    26   \n",
       "\n",
       "  Day of Week  Hour  diff_lat  diff_long  \n",
       "0      Monday    17  0.002335   0.017525  \n",
       "1      Sunday     0  0.007412   0.019066  \n",
       "2     Tuesday    11  0.053852   0.026306  \n",
       "3   Wednesday    19  0.013252   0.002228  \n",
       "4    Saturday    13  0.010689   0.000130  "
      ]
     },
     "execution_count": 33,
     "metadata": {},
     "output_type": "execute_result"
    }
   ],
   "source": [
    "train.head()"
   ]
  },
  {
   "cell_type": "code",
   "execution_count": 34,
   "id": "3cd2f048",
   "metadata": {
    "execution": {
     "iopub.execute_input": "2023-10-11T23:27:20.909360Z",
     "iopub.status.busy": "2023-10-11T23:27:20.908935Z",
     "iopub.status.idle": "2023-10-11T23:27:20.934745Z",
     "shell.execute_reply": "2023-10-11T23:27:20.933786Z"
    },
    "papermill": {
     "duration": 0.043084,
     "end_time": "2023-10-11T23:27:20.936988",
     "exception": false,
     "start_time": "2023-10-11T23:27:20.893904",
     "status": "completed"
    },
    "tags": []
   },
   "outputs": [
    {
     "data": {
      "text/html": [
       "<div>\n",
       "<style scoped>\n",
       "    .dataframe tbody tr th:only-of-type {\n",
       "        vertical-align: middle;\n",
       "    }\n",
       "\n",
       "    .dataframe tbody tr th {\n",
       "        vertical-align: top;\n",
       "    }\n",
       "\n",
       "    .dataframe thead th {\n",
       "        text-align: right;\n",
       "    }\n",
       "</style>\n",
       "<table border=\"1\" class=\"dataframe\">\n",
       "  <thead>\n",
       "    <tr style=\"text-align: right;\">\n",
       "      <th></th>\n",
       "      <th>id</th>\n",
       "      <th>vendor_id</th>\n",
       "      <th>pickup_datetime</th>\n",
       "      <th>dropoff_datetime</th>\n",
       "      <th>passenger_count</th>\n",
       "      <th>pickup_longitude</th>\n",
       "      <th>pickup_latitude</th>\n",
       "      <th>dropoff_longitude</th>\n",
       "      <th>dropoff_latitude</th>\n",
       "      <th>store_and_fwd_flag</th>\n",
       "      <th>trip_duration</th>\n",
       "      <th>Year</th>\n",
       "      <th>Month</th>\n",
       "      <th>Date</th>\n",
       "      <th>Day of Week</th>\n",
       "      <th>Hour</th>\n",
       "      <th>diff_lat</th>\n",
       "      <th>diff_long</th>\n",
       "    </tr>\n",
       "  </thead>\n",
       "  <tbody>\n",
       "    <tr>\n",
       "      <th>0</th>\n",
       "      <td>id2875421</td>\n",
       "      <td>2</td>\n",
       "      <td>2016-03-14 17:24:55</td>\n",
       "      <td>2016-03-14 17:32:30</td>\n",
       "      <td>1</td>\n",
       "      <td>-73.982155</td>\n",
       "      <td>40.767937</td>\n",
       "      <td>-73.964630</td>\n",
       "      <td>40.765602</td>\n",
       "      <td>N</td>\n",
       "      <td>455</td>\n",
       "      <td>2016</td>\n",
       "      <td>3</td>\n",
       "      <td>14</td>\n",
       "      <td>Monday</td>\n",
       "      <td>17</td>\n",
       "      <td>0.002335</td>\n",
       "      <td>0.017525</td>\n",
       "    </tr>\n",
       "    <tr>\n",
       "      <th>1</th>\n",
       "      <td>id2377394</td>\n",
       "      <td>1</td>\n",
       "      <td>2016-06-12 00:43:35</td>\n",
       "      <td>2016-06-12 00:54:38</td>\n",
       "      <td>1</td>\n",
       "      <td>-73.980415</td>\n",
       "      <td>40.738564</td>\n",
       "      <td>-73.999481</td>\n",
       "      <td>40.731152</td>\n",
       "      <td>N</td>\n",
       "      <td>663</td>\n",
       "      <td>2016</td>\n",
       "      <td>6</td>\n",
       "      <td>12</td>\n",
       "      <td>Sunday</td>\n",
       "      <td>0</td>\n",
       "      <td>0.007412</td>\n",
       "      <td>0.019066</td>\n",
       "    </tr>\n",
       "    <tr>\n",
       "      <th>2</th>\n",
       "      <td>id3858529</td>\n",
       "      <td>2</td>\n",
       "      <td>2016-01-19 11:35:24</td>\n",
       "      <td>2016-01-19 12:10:48</td>\n",
       "      <td>1</td>\n",
       "      <td>-73.979027</td>\n",
       "      <td>40.763939</td>\n",
       "      <td>-74.005333</td>\n",
       "      <td>40.710087</td>\n",
       "      <td>N</td>\n",
       "      <td>2124</td>\n",
       "      <td>2016</td>\n",
       "      <td>1</td>\n",
       "      <td>19</td>\n",
       "      <td>Tuesday</td>\n",
       "      <td>11</td>\n",
       "      <td>0.053852</td>\n",
       "      <td>0.026306</td>\n",
       "    </tr>\n",
       "    <tr>\n",
       "      <th>3</th>\n",
       "      <td>id3504673</td>\n",
       "      <td>2</td>\n",
       "      <td>2016-04-06 19:32:31</td>\n",
       "      <td>2016-04-06 19:39:40</td>\n",
       "      <td>1</td>\n",
       "      <td>-74.010040</td>\n",
       "      <td>40.719971</td>\n",
       "      <td>-74.012268</td>\n",
       "      <td>40.706718</td>\n",
       "      <td>N</td>\n",
       "      <td>429</td>\n",
       "      <td>2016</td>\n",
       "      <td>4</td>\n",
       "      <td>6</td>\n",
       "      <td>Wednesday</td>\n",
       "      <td>19</td>\n",
       "      <td>0.013252</td>\n",
       "      <td>0.002228</td>\n",
       "    </tr>\n",
       "    <tr>\n",
       "      <th>4</th>\n",
       "      <td>id2181028</td>\n",
       "      <td>2</td>\n",
       "      <td>2016-03-26 13:30:55</td>\n",
       "      <td>2016-03-26 13:38:10</td>\n",
       "      <td>1</td>\n",
       "      <td>-73.973053</td>\n",
       "      <td>40.793209</td>\n",
       "      <td>-73.972923</td>\n",
       "      <td>40.782520</td>\n",
       "      <td>N</td>\n",
       "      <td>435</td>\n",
       "      <td>2016</td>\n",
       "      <td>3</td>\n",
       "      <td>26</td>\n",
       "      <td>Saturday</td>\n",
       "      <td>13</td>\n",
       "      <td>0.010689</td>\n",
       "      <td>0.000130</td>\n",
       "    </tr>\n",
       "    <tr>\n",
       "      <th>...</th>\n",
       "      <td>...</td>\n",
       "      <td>...</td>\n",
       "      <td>...</td>\n",
       "      <td>...</td>\n",
       "      <td>...</td>\n",
       "      <td>...</td>\n",
       "      <td>...</td>\n",
       "      <td>...</td>\n",
       "      <td>...</td>\n",
       "      <td>...</td>\n",
       "      <td>...</td>\n",
       "      <td>...</td>\n",
       "      <td>...</td>\n",
       "      <td>...</td>\n",
       "      <td>...</td>\n",
       "      <td>...</td>\n",
       "      <td>...</td>\n",
       "      <td>...</td>\n",
       "    </tr>\n",
       "    <tr>\n",
       "      <th>1458639</th>\n",
       "      <td>id2376096</td>\n",
       "      <td>2</td>\n",
       "      <td>2016-04-08 13:31:04</td>\n",
       "      <td>2016-04-08 13:44:02</td>\n",
       "      <td>4</td>\n",
       "      <td>-73.982201</td>\n",
       "      <td>40.745522</td>\n",
       "      <td>-73.994911</td>\n",
       "      <td>40.740170</td>\n",
       "      <td>N</td>\n",
       "      <td>778</td>\n",
       "      <td>2016</td>\n",
       "      <td>4</td>\n",
       "      <td>8</td>\n",
       "      <td>Friday</td>\n",
       "      <td>13</td>\n",
       "      <td>0.005352</td>\n",
       "      <td>0.012711</td>\n",
       "    </tr>\n",
       "    <tr>\n",
       "      <th>1458640</th>\n",
       "      <td>id1049543</td>\n",
       "      <td>1</td>\n",
       "      <td>2016-01-10 07:35:15</td>\n",
       "      <td>2016-01-10 07:46:10</td>\n",
       "      <td>1</td>\n",
       "      <td>-74.000946</td>\n",
       "      <td>40.747379</td>\n",
       "      <td>-73.970184</td>\n",
       "      <td>40.796547</td>\n",
       "      <td>N</td>\n",
       "      <td>655</td>\n",
       "      <td>2016</td>\n",
       "      <td>1</td>\n",
       "      <td>10</td>\n",
       "      <td>Sunday</td>\n",
       "      <td>7</td>\n",
       "      <td>0.049168</td>\n",
       "      <td>0.030762</td>\n",
       "    </tr>\n",
       "    <tr>\n",
       "      <th>1458641</th>\n",
       "      <td>id2304944</td>\n",
       "      <td>2</td>\n",
       "      <td>2016-04-22 06:57:41</td>\n",
       "      <td>2016-04-22 07:10:25</td>\n",
       "      <td>1</td>\n",
       "      <td>-73.959129</td>\n",
       "      <td>40.768799</td>\n",
       "      <td>-74.004433</td>\n",
       "      <td>40.707371</td>\n",
       "      <td>N</td>\n",
       "      <td>764</td>\n",
       "      <td>2016</td>\n",
       "      <td>4</td>\n",
       "      <td>22</td>\n",
       "      <td>Friday</td>\n",
       "      <td>6</td>\n",
       "      <td>0.061428</td>\n",
       "      <td>0.045303</td>\n",
       "    </tr>\n",
       "    <tr>\n",
       "      <th>1458642</th>\n",
       "      <td>id2714485</td>\n",
       "      <td>1</td>\n",
       "      <td>2016-01-05 15:56:26</td>\n",
       "      <td>2016-01-05 16:02:39</td>\n",
       "      <td>1</td>\n",
       "      <td>-73.982079</td>\n",
       "      <td>40.749062</td>\n",
       "      <td>-73.974632</td>\n",
       "      <td>40.757107</td>\n",
       "      <td>N</td>\n",
       "      <td>373</td>\n",
       "      <td>2016</td>\n",
       "      <td>1</td>\n",
       "      <td>5</td>\n",
       "      <td>Tuesday</td>\n",
       "      <td>15</td>\n",
       "      <td>0.008045</td>\n",
       "      <td>0.007446</td>\n",
       "    </tr>\n",
       "    <tr>\n",
       "      <th>1458643</th>\n",
       "      <td>id1209952</td>\n",
       "      <td>1</td>\n",
       "      <td>2016-04-05 14:44:25</td>\n",
       "      <td>2016-04-05 14:47:43</td>\n",
       "      <td>1</td>\n",
       "      <td>-73.979538</td>\n",
       "      <td>40.781750</td>\n",
       "      <td>-73.972809</td>\n",
       "      <td>40.790585</td>\n",
       "      <td>N</td>\n",
       "      <td>198</td>\n",
       "      <td>2016</td>\n",
       "      <td>4</td>\n",
       "      <td>5</td>\n",
       "      <td>Tuesday</td>\n",
       "      <td>14</td>\n",
       "      <td>0.008835</td>\n",
       "      <td>0.006729</td>\n",
       "    </tr>\n",
       "  </tbody>\n",
       "</table>\n",
       "<p>1458579 rows × 18 columns</p>\n",
       "</div>"
      ],
      "text/plain": [
       "                id  vendor_id     pickup_datetime     dropoff_datetime  \\\n",
       "0        id2875421          2 2016-03-14 17:24:55  2016-03-14 17:32:30   \n",
       "1        id2377394          1 2016-06-12 00:43:35  2016-06-12 00:54:38   \n",
       "2        id3858529          2 2016-01-19 11:35:24  2016-01-19 12:10:48   \n",
       "3        id3504673          2 2016-04-06 19:32:31  2016-04-06 19:39:40   \n",
       "4        id2181028          2 2016-03-26 13:30:55  2016-03-26 13:38:10   \n",
       "...            ...        ...                 ...                  ...   \n",
       "1458639  id2376096          2 2016-04-08 13:31:04  2016-04-08 13:44:02   \n",
       "1458640  id1049543          1 2016-01-10 07:35:15  2016-01-10 07:46:10   \n",
       "1458641  id2304944          2 2016-04-22 06:57:41  2016-04-22 07:10:25   \n",
       "1458642  id2714485          1 2016-01-05 15:56:26  2016-01-05 16:02:39   \n",
       "1458643  id1209952          1 2016-04-05 14:44:25  2016-04-05 14:47:43   \n",
       "\n",
       "         passenger_count  pickup_longitude  pickup_latitude  \\\n",
       "0                      1        -73.982155        40.767937   \n",
       "1                      1        -73.980415        40.738564   \n",
       "2                      1        -73.979027        40.763939   \n",
       "3                      1        -74.010040        40.719971   \n",
       "4                      1        -73.973053        40.793209   \n",
       "...                  ...               ...              ...   \n",
       "1458639                4        -73.982201        40.745522   \n",
       "1458640                1        -74.000946        40.747379   \n",
       "1458641                1        -73.959129        40.768799   \n",
       "1458642                1        -73.982079        40.749062   \n",
       "1458643                1        -73.979538        40.781750   \n",
       "\n",
       "         dropoff_longitude  dropoff_latitude store_and_fwd_flag  \\\n",
       "0               -73.964630         40.765602                  N   \n",
       "1               -73.999481         40.731152                  N   \n",
       "2               -74.005333         40.710087                  N   \n",
       "3               -74.012268         40.706718                  N   \n",
       "4               -73.972923         40.782520                  N   \n",
       "...                    ...               ...                ...   \n",
       "1458639         -73.994911         40.740170                  N   \n",
       "1458640         -73.970184         40.796547                  N   \n",
       "1458641         -74.004433         40.707371                  N   \n",
       "1458642         -73.974632         40.757107                  N   \n",
       "1458643         -73.972809         40.790585                  N   \n",
       "\n",
       "         trip_duration  Year  Month  Date Day of Week  Hour  diff_lat  \\\n",
       "0                  455  2016      3    14      Monday    17  0.002335   \n",
       "1                  663  2016      6    12      Sunday     0  0.007412   \n",
       "2                 2124  2016      1    19     Tuesday    11  0.053852   \n",
       "3                  429  2016      4     6   Wednesday    19  0.013252   \n",
       "4                  435  2016      3    26    Saturday    13  0.010689   \n",
       "...                ...   ...    ...   ...         ...   ...       ...   \n",
       "1458639            778  2016      4     8      Friday    13  0.005352   \n",
       "1458640            655  2016      1    10      Sunday     7  0.049168   \n",
       "1458641            764  2016      4    22      Friday     6  0.061428   \n",
       "1458642            373  2016      1     5     Tuesday    15  0.008045   \n",
       "1458643            198  2016      4     5     Tuesday    14  0.008835   \n",
       "\n",
       "         diff_long  \n",
       "0         0.017525  \n",
       "1         0.019066  \n",
       "2         0.026306  \n",
       "3         0.002228  \n",
       "4         0.000130  \n",
       "...            ...  \n",
       "1458639   0.012711  \n",
       "1458640   0.030762  \n",
       "1458641   0.045303  \n",
       "1458642   0.007446  \n",
       "1458643   0.006729  \n",
       "\n",
       "[1458579 rows x 18 columns]"
      ]
     },
     "execution_count": 34,
     "metadata": {},
     "output_type": "execute_result"
    }
   ],
   "source": [
    "train"
   ]
  },
  {
   "cell_type": "code",
   "execution_count": 35,
   "id": "66231d59",
   "metadata": {
    "execution": {
     "iopub.execute_input": "2023-10-11T23:27:20.968637Z",
     "iopub.status.busy": "2023-10-11T23:27:20.967908Z",
     "iopub.status.idle": "2023-10-11T23:27:23.762445Z",
     "shell.execute_reply": "2023-10-11T23:27:23.761395Z"
    },
    "papermill": {
     "duration": 2.812333,
     "end_time": "2023-10-11T23:27:23.764458",
     "exception": false,
     "start_time": "2023-10-11T23:27:20.952125",
     "status": "completed"
    },
    "tags": []
   },
   "outputs": [
    {
     "data": {
      "text/plain": [
       "<AxesSubplot:xlabel='diff_lat', ylabel='trip_duration'>"
      ]
     },
     "execution_count": 35,
     "metadata": {},
     "output_type": "execute_result"
    },
    {
     "data": {
      "image/png": "[encoded data removed]",
      "text/plain": [
       "<Figure size 432x288 with 1 Axes>"
      ]
     },
     "metadata": {
      "needs_background": "light"
     },
     "output_type": "display_data"
    }
   ],
   "source": [
    "sns.scatterplot(x=train['diff_lat'] , y= train['trip_duration'])"
   ]
  },
  {
   "cell_type": "code",
   "execution_count": 36,
   "id": "fb048a4a",
   "metadata": {
    "execution": {
     "iopub.execute_input": "2023-10-11T23:27:23.795130Z",
     "iopub.status.busy": "2023-10-11T23:27:23.794739Z",
     "iopub.status.idle": "2023-10-11T23:27:26.561832Z",
     "shell.execute_reply": "2023-10-11T23:27:26.560856Z"
    },
    "papermill": {
     "duration": 2.784705,
     "end_time": "2023-10-11T23:27:26.563867",
     "exception": false,
     "start_time": "2023-10-11T23:27:23.779162",
     "status": "completed"
    },
    "tags": []
   },
   "outputs": [
    {
     "data": {
      "text/plain": [
       "<AxesSubplot:xlabel='diff_long', ylabel='trip_duration'>"
      ]
     },
     "execution_count": 36,
     "metadata": {},
     "output_type": "execute_result"
    },
    {
     "data": {
      "image/png": "[encoded data removed]",
      "text/plain": [
       "<Figure size 432x288 with 1 Axes>"
      ]
     },
     "metadata": {
      "needs_background": "light"
     },
     "output_type": "display_data"
    }
   ],
   "source": [
    "sns.scatterplot(x=train['diff_long'] , y= train['trip_duration'])"
   ]
  },
  {
   "cell_type": "code",
   "execution_count": 37,
   "id": "2b0d55dd",
   "metadata": {
    "execution": {
     "iopub.execute_input": "2023-10-11T23:27:26.594456Z",
     "iopub.status.busy": "2023-10-11T23:27:26.594044Z",
     "iopub.status.idle": "2023-10-11T23:27:26.858435Z",
     "shell.execute_reply": "2023-10-11T23:27:26.857538Z"
    },
    "papermill": {
     "duration": 0.281901,
     "end_time": "2023-10-11T23:27:26.860383",
     "exception": false,
     "start_time": "2023-10-11T23:27:26.578482",
     "status": "completed"
    },
    "tags": []
   },
   "outputs": [
    {
     "data": {
      "text/html": [
       "<div>\n",
       "<style scoped>\n",
       "    .dataframe tbody tr th:only-of-type {\n",
       "        vertical-align: middle;\n",
       "    }\n",
       "\n",
       "    .dataframe tbody tr th {\n",
       "        vertical-align: top;\n",
       "    }\n",
       "\n",
       "    .dataframe thead th {\n",
       "        text-align: right;\n",
       "    }\n",
       "</style>\n",
       "<table border=\"1\" class=\"dataframe\">\n",
       "  <thead>\n",
       "    <tr style=\"text-align: right;\">\n",
       "      <th></th>\n",
       "      <th>trip_duration</th>\n",
       "    </tr>\n",
       "    <tr>\n",
       "      <th>Day of Week</th>\n",
       "      <th></th>\n",
       "    </tr>\n",
       "  </thead>\n",
       "  <tbody>\n",
       "    <tr>\n",
       "      <th>Friday</th>\n",
       "      <td>990.252495</td>\n",
       "    </tr>\n",
       "    <tr>\n",
       "      <th>Monday</th>\n",
       "      <td>897.505790</td>\n",
       "    </tr>\n",
       "    <tr>\n",
       "      <th>Saturday</th>\n",
       "      <td>948.094854</td>\n",
       "    </tr>\n",
       "    <tr>\n",
       "      <th>Sunday</th>\n",
       "      <td>901.702168</td>\n",
       "    </tr>\n",
       "    <tr>\n",
       "      <th>Thursday</th>\n",
       "      <td>1006.564630</td>\n",
       "    </tr>\n",
       "    <tr>\n",
       "      <th>Tuesday</th>\n",
       "      <td>983.482266</td>\n",
       "    </tr>\n",
       "    <tr>\n",
       "      <th>Wednesday</th>\n",
       "      <td>975.453986</td>\n",
       "    </tr>\n",
       "  </tbody>\n",
       "</table>\n",
       "</div>"
      ],
      "text/plain": [
       "             trip_duration\n",
       "Day of Week               \n",
       "Friday          990.252495\n",
       "Monday          897.505790\n",
       "Saturday        948.094854\n",
       "Sunday          901.702168\n",
       "Thursday       1006.564630\n",
       "Tuesday         983.482266\n",
       "Wednesday       975.453986"
      ]
     },
     "execution_count": 37,
     "metadata": {},
     "output_type": "execute_result"
    }
   ],
   "source": [
    "pd1 =  train[['Day of Week','trip_duration']].groupby('Day of Week').mean()\n",
    "\n",
    "pd1\n"
   ]
  },
  {
   "cell_type": "code",
   "execution_count": 38,
   "id": "99115030",
   "metadata": {
    "execution": {
     "iopub.execute_input": "2023-10-11T23:27:26.891918Z",
     "iopub.status.busy": "2023-10-11T23:27:26.891543Z",
     "iopub.status.idle": "2023-10-11T23:27:26.897528Z",
     "shell.execute_reply": "2023-10-11T23:27:26.896602Z"
    },
    "papermill": {
     "duration": 0.0247,
     "end_time": "2023-10-11T23:27:26.899975",
     "exception": false,
     "start_time": "2023-10-11T23:27:26.875275",
     "status": "completed"
    },
    "tags": []
   },
   "outputs": [
    {
     "name": "stdout",
     "output_type": "stream",
     "text": [
      "highest trafic\n"
     ]
    }
   ],
   "source": [
    "max_day = pd1['trip_duration'].max()\n",
    "\n",
    "pd1.index[pd1['trip_duration']==max_day].tolist()\n",
    "\n",
    "print(\"highest trafic\")"
   ]
  },
  {
   "cell_type": "code",
   "execution_count": null,
   "id": "17c2620a",
   "metadata": {
    "papermill": {
     "duration": 0.014253,
     "end_time": "2023-10-11T23:27:26.928995",
     "exception": false,
     "start_time": "2023-10-11T23:27:26.914742",
     "status": "completed"
    },
    "tags": []
   },
   "outputs": [],
   "source": []
  }
 ],
 "metadata": {
  "kernelspec": {
   "display_name": "Python 3",
   "language": "python",
   "name": "python3"
  },
  "language_info": {
   "codemirror_mode": {
    "name": "ipython",
    "version": 3
   },
   "file_extension": ".py",
   "mimetype": "text/x-python",
   "name": "python",
   "nbconvert_exporter": "python",
   "pygments_lexer": "ipython3",
   "version": "3.7.12"
  },
  "papermill": {
   "default_parameters": {},
   "duration": 47.726844,
   "end_time": "2023-10-11T23:27:28.066834",
   "environment_variables": {},
   "exception": null,
   "input_path": "__notebook__.ipynb",
   "output_path": "__notebook__.ipynb",
   "parameters": {},
   "start_time": "2023-10-11T23:26:40.339990",
   "version": "2.3.4"
  }
 },
 "nbformat": 4,
 "nbformat_minor": 5
}
