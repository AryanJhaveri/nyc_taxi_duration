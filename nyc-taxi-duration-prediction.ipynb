{
 "cells": [
  {
   "cell_type": "code",
   "execution_count": 1,
   "id": "b638f74d",
   "metadata": {
    "_cell_guid": "b1076dfc-b9ad-4769-8c92-a6c4dae69d19",
    "_uuid": "8f2839f25d086af736a60e9eeb907d3b93b6e0e5",
    "execution": {
     "iopub.execute_input": "2023-10-11T23:55:17.229481Z",
     "iopub.status.busy": "2023-10-11T23:55:17.228676Z",
     "iopub.status.idle": "2023-10-11T23:55:17.241011Z",
     "shell.execute_reply": "2023-10-11T23:55:17.240229Z"
    },
    "papermill": {
     "duration": 0.021879,
     "end_time": "2023-10-11T23:55:17.243147",
     "exception": false,
     "start_time": "2023-10-11T23:55:17.221268",
     "status": "completed"
    },
    "tags": []
   },
   "outputs": [
    {
     "name": "stdout",
     "output_type": "stream",
     "text": [
      "/kaggle/input/nyc-taxi-trip-duration/train.zip\n",
      "/kaggle/input/nyc-taxi-trip-duration/test.zip\n",
      "/kaggle/input/nyc-taxi-trip-duration/sample_submission.zip\n"
     ]
    }
   ],
   "source": [
    "# This Python 3 environment comes with many helpful analytics libraries installed\n",
    "# It is defined by the kaggle/python Docker image: https://github.com/kaggle/docker-python\n",
    "# For example, here's several helpful packages to load\n",
    "\n",
    "import numpy as np # linear algebra\n",
    "import pandas as pd # data processing, CSV file I/O (e.g. pd.read_csv)\n",
    "\n",
    "# Input data files are available in the read-only \"../input/\" directory\n",
    "# For example, running this (by clicking run or pressing Shift+Enter) will list all files under the input directory\n",
    "\n",
    "import os\n",
    "for dirname, _, filenames in os.walk('/kaggle/input'):\n",
    "    for filename in filenames:\n",
    "        print(os.path.join(dirname, filename))\n",
    "\n",
    "# You can write up to 20GB to the current directory (/kaggle/working/) that gets preserved as output when you create a version using \"Save & Run All\" \n",
    "# You can also write temporary files to /kaggle/temp/, but they won't be saved outside of the current session"
   ]
  },
  {
   "cell_type": "raw",
   "id": "0652da8d",
   "metadata": {
    "papermill": {
     "duration": 0.00442,
     "end_time": "2023-10-11T23:55:17.252426",
     "exception": false,
     "start_time": "2023-10-11T23:55:17.248006",
     "status": "completed"
    },
    "tags": []
   },
   "source": [
    "train = pd.read_csv(\"../input/nyc-taxi-trip-duration/train.zip\")\n",
    "test = pd.read_csv(\"../input/nyc-taxi-trip-duration/test.zip\")"
   ]
  },
  {
   "cell_type": "code",
   "execution_count": 2,
   "id": "ca578158",
   "metadata": {
    "execution": {
     "iopub.execute_input": "2023-10-11T23:55:17.262778Z",
     "iopub.status.busy": "2023-10-11T23:55:17.262359Z",
     "iopub.status.idle": "2023-10-11T23:55:25.331554Z",
     "shell.execute_reply": "2023-10-11T23:55:25.330620Z"
    },
    "papermill": {
     "duration": 8.076621,
     "end_time": "2023-10-11T23:55:25.333649",
     "exception": false,
     "start_time": "2023-10-11T23:55:17.257028",
     "status": "completed"
    },
    "tags": []
   },
   "outputs": [],
   "source": [
    "train = pd.read_csv(\"../input/nyc-taxi-trip-duration/train.zip\")\n",
    "test = pd.read_csv(\"../input/nyc-taxi-trip-duration/test.zip\")"
   ]
  },
  {
   "cell_type": "code",
   "execution_count": 3,
   "id": "12d14144",
   "metadata": {
    "execution": {
     "iopub.execute_input": "2023-10-11T23:55:25.344840Z",
     "iopub.status.busy": "2023-10-11T23:55:25.344531Z",
     "iopub.status.idle": "2023-10-11T23:55:25.351803Z",
     "shell.execute_reply": "2023-10-11T23:55:25.351004Z"
    },
    "papermill": {
     "duration": 0.014821,
     "end_time": "2023-10-11T23:55:25.353590",
     "exception": false,
     "start_time": "2023-10-11T23:55:25.338769",
     "status": "completed"
    },
    "tags": []
   },
   "outputs": [
    {
     "data": {
      "text/plain": [
       "(1458644, 11)"
      ]
     },
     "execution_count": 3,
     "metadata": {},
     "output_type": "execute_result"
    }
   ],
   "source": [
    "train.shape"
   ]
  },
  {
   "cell_type": "code",
   "execution_count": 4,
   "id": "b53b3cdb",
   "metadata": {
    "execution": {
     "iopub.execute_input": "2023-10-11T23:55:25.364758Z",
     "iopub.status.busy": "2023-10-11T23:55:25.364362Z",
     "iopub.status.idle": "2023-10-11T23:55:25.663949Z",
     "shell.execute_reply": "2023-10-11T23:55:25.662750Z"
    },
    "papermill": {
     "duration": 0.307207,
     "end_time": "2023-10-11T23:55:25.665960",
     "exception": false,
     "start_time": "2023-10-11T23:55:25.358753",
     "status": "completed"
    },
    "tags": []
   },
   "outputs": [
    {
     "name": "stdout",
     "output_type": "stream",
     "text": [
      "<class 'pandas.core.frame.DataFrame'>\n",
      "RangeIndex: 1458644 entries, 0 to 1458643\n",
      "Data columns (total 11 columns):\n",
      " #   Column              Non-Null Count    Dtype  \n",
      "---  ------              --------------    -----  \n",
      " 0   id                  1458644 non-null  object \n",
      " 1   vendor_id           1458644 non-null  int64  \n",
      " 2   pickup_datetime     1458644 non-null  object \n",
      " 3   dropoff_datetime    1458644 non-null  object \n",
      " 4   passenger_count     1458644 non-null  int64  \n",
      " 5   pickup_longitude    1458644 non-null  float64\n",
      " 6   pickup_latitude     1458644 non-null  float64\n",
      " 7   dropoff_longitude   1458644 non-null  float64\n",
      " 8   dropoff_latitude    1458644 non-null  float64\n",
      " 9   store_and_fwd_flag  1458644 non-null  object \n",
      " 10  trip_duration       1458644 non-null  int64  \n",
      "dtypes: float64(4), int64(3), object(4)\n",
      "memory usage: 122.4+ MB\n"
     ]
    }
   ],
   "source": [
    "train.info()"
   ]
  },
  {
   "cell_type": "code",
   "execution_count": 5,
   "id": "ffd8c2c0",
   "metadata": {
    "execution": {
     "iopub.execute_input": "2023-10-11T23:55:25.677674Z",
     "iopub.status.busy": "2023-10-11T23:55:25.677378Z",
     "iopub.status.idle": "2023-10-11T23:55:25.952572Z",
     "shell.execute_reply": "2023-10-11T23:55:25.951786Z"
    },
    "papermill": {
     "duration": 0.283069,
     "end_time": "2023-10-11T23:55:25.954336",
     "exception": false,
     "start_time": "2023-10-11T23:55:25.671267",
     "status": "completed"
    },
    "tags": []
   },
   "outputs": [
    {
     "data": {
      "text/plain": [
       "id                    0\n",
       "vendor_id             0\n",
       "pickup_datetime       0\n",
       "dropoff_datetime      0\n",
       "passenger_count       0\n",
       "pickup_longitude      0\n",
       "pickup_latitude       0\n",
       "dropoff_longitude     0\n",
       "dropoff_latitude      0\n",
       "store_and_fwd_flag    0\n",
       "trip_duration         0\n",
       "dtype: int64"
      ]
     },
     "execution_count": 5,
     "metadata": {},
     "output_type": "execute_result"
    }
   ],
   "source": [
    "train.isnull().sum()"
   ]
  },
  {
   "cell_type": "code",
   "execution_count": 6,
   "id": "c2b6639d",
   "metadata": {
    "execution": {
     "iopub.execute_input": "2023-10-11T23:55:25.965257Z",
     "iopub.status.busy": "2023-10-11T23:55:25.964793Z",
     "iopub.status.idle": "2023-10-11T23:55:26.058016Z",
     "shell.execute_reply": "2023-10-11T23:55:26.057134Z"
    },
    "papermill": {
     "duration": 0.100421,
     "end_time": "2023-10-11T23:55:26.059667",
     "exception": false,
     "start_time": "2023-10-11T23:55:25.959246",
     "status": "completed"
    },
    "tags": []
   },
   "outputs": [
    {
     "data": {
      "text/plain": [
       "id                    0\n",
       "vendor_id             0\n",
       "pickup_datetime       0\n",
       "passenger_count       0\n",
       "pickup_longitude      0\n",
       "pickup_latitude       0\n",
       "dropoff_longitude     0\n",
       "dropoff_latitude      0\n",
       "store_and_fwd_flag    0\n",
       "dtype: int64"
      ]
     },
     "execution_count": 6,
     "metadata": {},
     "output_type": "execute_result"
    }
   ],
   "source": [
    "test.isnull().sum()"
   ]
  },
  {
   "cell_type": "code",
   "execution_count": 7,
   "id": "74e7d238",
   "metadata": {
    "execution": {
     "iopub.execute_input": "2023-10-11T23:55:26.070766Z",
     "iopub.status.busy": "2023-10-11T23:55:26.070464Z",
     "iopub.status.idle": "2023-10-11T23:55:26.086396Z",
     "shell.execute_reply": "2023-10-11T23:55:26.085609Z"
    },
    "papermill": {
     "duration": 0.023483,
     "end_time": "2023-10-11T23:55:26.088144",
     "exception": false,
     "start_time": "2023-10-11T23:55:26.064661",
     "status": "completed"
    },
    "tags": []
   },
   "outputs": [
    {
     "data": {
      "text/html": [
       "<div>\n",
       "<style scoped>\n",
       "    .dataframe tbody tr th:only-of-type {\n",
       "        vertical-align: middle;\n",
       "    }\n",
       "\n",
       "    .dataframe tbody tr th {\n",
       "        vertical-align: top;\n",
       "    }\n",
       "\n",
       "    .dataframe thead th {\n",
       "        text-align: right;\n",
       "    }\n",
       "</style>\n",
       "<table border=\"1\" class=\"dataframe\">\n",
       "  <thead>\n",
       "    <tr style=\"text-align: right;\">\n",
       "      <th></th>\n",
       "      <th>id</th>\n",
       "      <th>vendor_id</th>\n",
       "      <th>pickup_datetime</th>\n",
       "      <th>dropoff_datetime</th>\n",
       "      <th>passenger_count</th>\n",
       "      <th>pickup_longitude</th>\n",
       "      <th>pickup_latitude</th>\n",
       "      <th>dropoff_longitude</th>\n",
       "      <th>dropoff_latitude</th>\n",
       "      <th>store_and_fwd_flag</th>\n",
       "      <th>trip_duration</th>\n",
       "    </tr>\n",
       "  </thead>\n",
       "  <tbody>\n",
       "    <tr>\n",
       "      <th>0</th>\n",
       "      <td>id2875421</td>\n",
       "      <td>2</td>\n",
       "      <td>2016-03-14 17:24:55</td>\n",
       "      <td>2016-03-14 17:32:30</td>\n",
       "      <td>1</td>\n",
       "      <td>-73.982155</td>\n",
       "      <td>40.767937</td>\n",
       "      <td>-73.964630</td>\n",
       "      <td>40.765602</td>\n",
       "      <td>N</td>\n",
       "      <td>455</td>\n",
       "    </tr>\n",
       "    <tr>\n",
       "      <th>1</th>\n",
       "      <td>id2377394</td>\n",
       "      <td>1</td>\n",
       "      <td>2016-06-12 00:43:35</td>\n",
       "      <td>2016-06-12 00:54:38</td>\n",
       "      <td>1</td>\n",
       "      <td>-73.980415</td>\n",
       "      <td>40.738564</td>\n",
       "      <td>-73.999481</td>\n",
       "      <td>40.731152</td>\n",
       "      <td>N</td>\n",
       "      <td>663</td>\n",
       "    </tr>\n",
       "    <tr>\n",
       "      <th>2</th>\n",
       "      <td>id3858529</td>\n",
       "      <td>2</td>\n",
       "      <td>2016-01-19 11:35:24</td>\n",
       "      <td>2016-01-19 12:10:48</td>\n",
       "      <td>1</td>\n",
       "      <td>-73.979027</td>\n",
       "      <td>40.763939</td>\n",
       "      <td>-74.005333</td>\n",
       "      <td>40.710087</td>\n",
       "      <td>N</td>\n",
       "      <td>2124</td>\n",
       "    </tr>\n",
       "    <tr>\n",
       "      <th>3</th>\n",
       "      <td>id3504673</td>\n",
       "      <td>2</td>\n",
       "      <td>2016-04-06 19:32:31</td>\n",
       "      <td>2016-04-06 19:39:40</td>\n",
       "      <td>1</td>\n",
       "      <td>-74.010040</td>\n",
       "      <td>40.719971</td>\n",
       "      <td>-74.012268</td>\n",
       "      <td>40.706718</td>\n",
       "      <td>N</td>\n",
       "      <td>429</td>\n",
       "    </tr>\n",
       "    <tr>\n",
       "      <th>4</th>\n",
       "      <td>id2181028</td>\n",
       "      <td>2</td>\n",
       "      <td>2016-03-26 13:30:55</td>\n",
       "      <td>2016-03-26 13:38:10</td>\n",
       "      <td>1</td>\n",
       "      <td>-73.973053</td>\n",
       "      <td>40.793209</td>\n",
       "      <td>-73.972923</td>\n",
       "      <td>40.782520</td>\n",
       "      <td>N</td>\n",
       "      <td>435</td>\n",
       "    </tr>\n",
       "  </tbody>\n",
       "</table>\n",
       "</div>"
      ],
      "text/plain": [
       "          id  vendor_id      pickup_datetime     dropoff_datetime  \\\n",
       "0  id2875421          2  2016-03-14 17:24:55  2016-03-14 17:32:30   \n",
       "1  id2377394          1  2016-06-12 00:43:35  2016-06-12 00:54:38   \n",
       "2  id3858529          2  2016-01-19 11:35:24  2016-01-19 12:10:48   \n",
       "3  id3504673          2  2016-04-06 19:32:31  2016-04-06 19:39:40   \n",
       "4  id2181028          2  2016-03-26 13:30:55  2016-03-26 13:38:10   \n",
       "\n",
       "   passenger_count  pickup_longitude  pickup_latitude  dropoff_longitude  \\\n",
       "0                1        -73.982155        40.767937         -73.964630   \n",
       "1                1        -73.980415        40.738564         -73.999481   \n",
       "2                1        -73.979027        40.763939         -74.005333   \n",
       "3                1        -74.010040        40.719971         -74.012268   \n",
       "4                1        -73.973053        40.793209         -73.972923   \n",
       "\n",
       "   dropoff_latitude store_and_fwd_flag  trip_duration  \n",
       "0         40.765602                  N            455  \n",
       "1         40.731152                  N            663  \n",
       "2         40.710087                  N           2124  \n",
       "3         40.706718                  N            429  \n",
       "4         40.782520                  N            435  "
      ]
     },
     "execution_count": 7,
     "metadata": {},
     "output_type": "execute_result"
    }
   ],
   "source": [
    "train.head()"
   ]
  },
  {
   "cell_type": "code",
   "execution_count": 8,
   "id": "f28aa1e8",
   "metadata": {
    "execution": {
     "iopub.execute_input": "2023-10-11T23:55:26.100239Z",
     "iopub.status.busy": "2023-10-11T23:55:26.099838Z",
     "iopub.status.idle": "2023-10-11T23:55:26.587581Z",
     "shell.execute_reply": "2023-10-11T23:55:26.586237Z"
    },
    "papermill": {
     "duration": 0.496926,
     "end_time": "2023-10-11T23:55:26.590746",
     "exception": false,
     "start_time": "2023-10-11T23:55:26.093820",
     "status": "completed"
    },
    "tags": []
   },
   "outputs": [],
   "source": [
    "train['pickup_datetime'] = pd.to_datetime(train['pickup_datetime'])\n",
    "\n",
    "test['pickup_datetime']  = pd.to_datetime(test['pickup_datetime'])"
   ]
  },
  {
   "cell_type": "code",
   "execution_count": 9,
   "id": "6cfd5005",
   "metadata": {
    "execution": {
     "iopub.execute_input": "2023-10-11T23:55:26.606061Z",
     "iopub.status.busy": "2023-10-11T23:55:26.605745Z",
     "iopub.status.idle": "2023-10-11T23:55:27.611245Z",
     "shell.execute_reply": "2023-10-11T23:55:27.610422Z"
    },
    "papermill": {
     "duration": 1.013867,
     "end_time": "2023-10-11T23:55:27.613286",
     "exception": false,
     "start_time": "2023-10-11T23:55:26.599419",
     "status": "completed"
    },
    "tags": []
   },
   "outputs": [],
   "source": [
    "data = [train,test]\n",
    "for i in data:\n",
    "    i['Year'] = i['pickup_datetime'].dt.year\n",
    "    i['Month'] = i['pickup_datetime'].dt.month\n",
    "    i['Date'] = i['pickup_datetime'].dt.day\n",
    "    i['Day of Week'] = i['pickup_datetime'].dt.dayofweek\n",
    "    i['Hour'] = i['pickup_datetime'].dt.hour"
   ]
  },
  {
   "cell_type": "code",
   "execution_count": 10,
   "id": "9102edb8",
   "metadata": {
    "execution": {
     "iopub.execute_input": "2023-10-11T23:55:27.625210Z",
     "iopub.status.busy": "2023-10-11T23:55:27.624801Z",
     "iopub.status.idle": "2023-10-11T23:55:27.872818Z",
     "shell.execute_reply": "2023-10-11T23:55:27.871856Z"
    },
    "papermill": {
     "duration": 0.256468,
     "end_time": "2023-10-11T23:55:27.875129",
     "exception": false,
     "start_time": "2023-10-11T23:55:27.618661",
     "status": "completed"
    },
    "tags": []
   },
   "outputs": [
    {
     "name": "stdout",
     "output_type": "stream",
     "text": [
      "<class 'pandas.core.frame.DataFrame'>\n",
      "RangeIndex: 1458644 entries, 0 to 1458643\n",
      "Data columns (total 16 columns):\n",
      " #   Column              Non-Null Count    Dtype         \n",
      "---  ------              --------------    -----         \n",
      " 0   id                  1458644 non-null  object        \n",
      " 1   vendor_id           1458644 non-null  int64         \n",
      " 2   pickup_datetime     1458644 non-null  datetime64[ns]\n",
      " 3   dropoff_datetime    1458644 non-null  object        \n",
      " 4   passenger_count     1458644 non-null  int64         \n",
      " 5   pickup_longitude    1458644 non-null  float64       \n",
      " 6   pickup_latitude     1458644 non-null  float64       \n",
      " 7   dropoff_longitude   1458644 non-null  float64       \n",
      " 8   dropoff_latitude    1458644 non-null  float64       \n",
      " 9   store_and_fwd_flag  1458644 non-null  object        \n",
      " 10  trip_duration       1458644 non-null  int64         \n",
      " 11  Year                1458644 non-null  int64         \n",
      " 12  Month               1458644 non-null  int64         \n",
      " 13  Date                1458644 non-null  int64         \n",
      " 14  Day of Week         1458644 non-null  int64         \n",
      " 15  Hour                1458644 non-null  int64         \n",
      "dtypes: datetime64[ns](1), float64(4), int64(8), object(3)\n",
      "memory usage: 178.1+ MB\n"
     ]
    }
   ],
   "source": [
    "train.info()"
   ]
  },
  {
   "cell_type": "code",
   "execution_count": 11,
   "id": "8e3a6a90",
   "metadata": {
    "execution": {
     "iopub.execute_input": "2023-10-11T23:55:27.888076Z",
     "iopub.status.busy": "2023-10-11T23:55:27.887787Z",
     "iopub.status.idle": "2023-10-11T23:55:27.901037Z",
     "shell.execute_reply": "2023-10-11T23:55:27.900199Z"
    },
    "papermill": {
     "duration": 0.021873,
     "end_time": "2023-10-11T23:55:27.902896",
     "exception": false,
     "start_time": "2023-10-11T23:55:27.881023",
     "status": "completed"
    },
    "tags": []
   },
   "outputs": [
    {
     "data": {
      "text/plain": [
       "array([2, 1])"
      ]
     },
     "execution_count": 11,
     "metadata": {},
     "output_type": "execute_result"
    }
   ],
   "source": [
    "train.vendor_id.unique()"
   ]
  },
  {
   "cell_type": "code",
   "execution_count": 12,
   "id": "943b7d0e",
   "metadata": {
    "execution": {
     "iopub.execute_input": "2023-10-11T23:55:27.915937Z",
     "iopub.status.busy": "2023-10-11T23:55:27.915519Z",
     "iopub.status.idle": "2023-10-11T23:55:27.928479Z",
     "shell.execute_reply": "2023-10-11T23:55:27.927661Z"
    },
    "papermill": {
     "duration": 0.020509,
     "end_time": "2023-10-11T23:55:27.930040",
     "exception": false,
     "start_time": "2023-10-11T23:55:27.909531",
     "status": "completed"
    },
    "tags": []
   },
   "outputs": [
    {
     "data": {
      "text/plain": [
       "array([1, 6, 4, 2, 3, 5, 0, 7, 9, 8])"
      ]
     },
     "execution_count": 12,
     "metadata": {},
     "output_type": "execute_result"
    }
   ],
   "source": [
    "train.passenger_count.unique()"
   ]
  },
  {
   "cell_type": "markdown",
   "id": "36cd3263",
   "metadata": {
    "papermill": {
     "duration": 0.005252,
     "end_time": "2023-10-11T23:55:27.940544",
     "exception": false,
     "start_time": "2023-10-11T23:55:27.935292",
     "status": "completed"
    },
    "tags": []
   },
   "source": [
    "Clean Data"
   ]
  },
  {
   "cell_type": "code",
   "execution_count": 13,
   "id": "a1efdcd1",
   "metadata": {
    "execution": {
     "iopub.execute_input": "2023-10-11T23:55:27.952179Z",
     "iopub.status.busy": "2023-10-11T23:55:27.951781Z",
     "iopub.status.idle": "2023-10-11T23:55:28.315970Z",
     "shell.execute_reply": "2023-10-11T23:55:28.314848Z"
    },
    "papermill": {
     "duration": 0.37221,
     "end_time": "2023-10-11T23:55:28.317984",
     "exception": false,
     "start_time": "2023-10-11T23:55:27.945774",
     "status": "completed"
    },
    "tags": []
   },
   "outputs": [],
   "source": [
    "train = train[(train.passenger_count > 0)]\n",
    "train = train[(train.passenger_count <7 )]\n",
    "\n",
    "\n"
   ]
  },
  {
   "cell_type": "code",
   "execution_count": 14,
   "id": "e054bdff",
   "metadata": {
    "execution": {
     "iopub.execute_input": "2023-10-11T23:55:28.330594Z",
     "iopub.status.busy": "2023-10-11T23:55:28.330304Z",
     "iopub.status.idle": "2023-10-11T23:55:28.478285Z",
     "shell.execute_reply": "2023-10-11T23:55:28.477470Z"
    },
    "papermill": {
     "duration": 0.156534,
     "end_time": "2023-10-11T23:55:28.480227",
     "exception": false,
     "start_time": "2023-10-11T23:55:28.323693",
     "status": "completed"
    },
    "tags": []
   },
   "outputs": [],
   "source": [
    "train = train.drop('store_and_fwd_flag',axis=1)\n",
    "test = test.drop('store_and_fwd_flag',axis=1)"
   ]
  },
  {
   "cell_type": "markdown",
   "id": "9afef432",
   "metadata": {
    "papermill": {
     "duration": 0.005151,
     "end_time": "2023-10-11T23:55:28.490709",
     "exception": false,
     "start_time": "2023-10-11T23:55:28.485558",
     "status": "completed"
    },
    "tags": []
   },
   "source": [
    "EDA\n"
   ]
  },
  {
   "cell_type": "code",
   "execution_count": 15,
   "id": "0b328a4a",
   "metadata": {
    "execution": {
     "iopub.execute_input": "2023-10-11T23:55:28.502615Z",
     "iopub.status.busy": "2023-10-11T23:55:28.502319Z",
     "iopub.status.idle": "2023-10-11T23:55:28.768071Z",
     "shell.execute_reply": "2023-10-11T23:55:28.767323Z"
    },
    "papermill": {
     "duration": 0.274013,
     "end_time": "2023-10-11T23:55:28.770052",
     "exception": false,
     "start_time": "2023-10-11T23:55:28.496039",
     "status": "completed"
    },
    "tags": []
   },
   "outputs": [
    {
     "data": {
      "text/plain": [
       "Text(0, 0.5, 'Frequency')"
      ]
     },
     "execution_count": 15,
     "metadata": {},
     "output_type": "execute_result"
    },
    {
     "data": {
      "image/png": "[encoded data removed]",
      "text/plain": [
       "<Figure size 1080x504 with 1 Axes>"
      ]
     },
     "metadata": {
      "needs_background": "light"
     },
     "output_type": "display_data"
    }
   ],
   "source": [
    "import matplotlib.pyplot as plt\n",
    "\n",
    "plt.figure(figsize=(15,7))\n",
    "plt.hist(train['passenger_count'], bins=15)\n",
    "plt.xlabel('No. of Passengers')\n",
    "plt.ylabel('Frequency')"
   ]
  },
  {
   "cell_type": "code",
   "execution_count": 16,
   "id": "9937a820",
   "metadata": {
    "execution": {
     "iopub.execute_input": "2023-10-11T23:55:28.782811Z",
     "iopub.status.busy": "2023-10-11T23:55:28.782513Z",
     "iopub.status.idle": "2023-10-11T23:55:31.181931Z",
     "shell.execute_reply": "2023-10-11T23:55:31.181188Z"
    },
    "papermill": {
     "duration": 2.40769,
     "end_time": "2023-10-11T23:55:31.183613",
     "exception": false,
     "start_time": "2023-10-11T23:55:28.775923",
     "status": "completed"
    },
    "tags": []
   },
   "outputs": [
    {
     "data": {
      "text/plain": [
       "Text(0, 0.5, 'duration')"
      ]
     },
     "execution_count": 16,
     "metadata": {},
     "output_type": "execute_result"
    },
    {
     "data": {
      "image/png": "[encoded data removed]",
      "text/plain": [
       "<Figure size 432x288 with 1 Axes>"
      ]
     },
     "metadata": {
      "needs_background": "light"
     },
     "output_type": "display_data"
    }
   ],
   "source": [
    "plt.figure()\n",
    "plt.scatter(x=train['Date'], y=train['trip_duration'])\n",
    "plt.xlabel('Date')\n",
    "plt.ylabel('duration')"
   ]
  },
  {
   "cell_type": "code",
   "execution_count": 17,
   "id": "89a92b57",
   "metadata": {
    "execution": {
     "iopub.execute_input": "2023-10-11T23:55:31.196763Z",
     "iopub.status.busy": "2023-10-11T23:55:31.196474Z",
     "iopub.status.idle": "2023-10-11T23:55:31.246028Z",
     "shell.execute_reply": "2023-10-11T23:55:31.245183Z"
    },
    "papermill": {
     "duration": 0.058305,
     "end_time": "2023-10-11T23:55:31.247986",
     "exception": false,
     "start_time": "2023-10-11T23:55:31.189681",
     "status": "completed"
    },
    "tags": []
   },
   "outputs": [
    {
     "data": {
      "text/plain": [
       "count    1.458579e+06\n",
       "mean     9.594638e+02\n",
       "std      5.237073e+03\n",
       "min      1.000000e+00\n",
       "25%      3.970000e+02\n",
       "50%      6.620000e+02\n",
       "75%      1.075000e+03\n",
       "max      3.526282e+06\n",
       "Name: trip_duration, dtype: float64"
      ]
     },
     "execution_count": 17,
     "metadata": {},
     "output_type": "execute_result"
    }
   ],
   "source": [
    "train['trip_duration'].describe()"
   ]
  },
  {
   "cell_type": "code",
   "execution_count": 18,
   "id": "5904da5a",
   "metadata": {
    "execution": {
     "iopub.execute_input": "2023-10-11T23:55:31.262306Z",
     "iopub.status.busy": "2023-10-11T23:55:31.261987Z",
     "iopub.status.idle": "2023-10-11T23:55:33.638958Z",
     "shell.execute_reply": "2023-10-11T23:55:33.638169Z"
    },
    "papermill": {
     "duration": 2.385607,
     "end_time": "2023-10-11T23:55:33.640664",
     "exception": false,
     "start_time": "2023-10-11T23:55:31.255057",
     "status": "completed"
    },
    "tags": []
   },
   "outputs": [
    {
     "data": {
      "text/plain": [
       "Text(0, 0.5, 'duration')"
      ]
     },
     "execution_count": 18,
     "metadata": {},
     "output_type": "execute_result"
    },
    {
     "data": {
      "image/png": "[encoded data removed]",
      "text/plain": [
       "<Figure size 432x288 with 1 Axes>"
      ]
     },
     "metadata": {
      "needs_background": "light"
     },
     "output_type": "display_data"
    }
   ],
   "source": [
    "plt.figure()\n",
    "plt.scatter(x=train['Hour'], y=train['trip_duration'])\n",
    "plt.xlabel('time')\n",
    "plt.ylabel('duration')"
   ]
  },
  {
   "cell_type": "code",
   "execution_count": 19,
   "id": "c985c4a8",
   "metadata": {
    "execution": {
     "iopub.execute_input": "2023-10-11T23:55:33.654351Z",
     "iopub.status.busy": "2023-10-11T23:55:33.653930Z",
     "iopub.status.idle": "2023-10-11T23:55:36.020829Z",
     "shell.execute_reply": "2023-10-11T23:55:36.020039Z"
    },
    "papermill": {
     "duration": 2.375516,
     "end_time": "2023-10-11T23:55:36.022535",
     "exception": false,
     "start_time": "2023-10-11T23:55:33.647019",
     "status": "completed"
    },
    "tags": []
   },
   "outputs": [
    {
     "data": {
      "text/plain": [
       "Text(0, 0.5, 'duration')"
      ]
     },
     "execution_count": 19,
     "metadata": {},
     "output_type": "execute_result"
    },
    {
     "data": {
      "image/png": "[encoded data removed]",
      "text/plain": [
       "<Figure size 432x288 with 1 Axes>"
      ]
     },
     "metadata": {
      "needs_background": "light"
     },
     "output_type": "display_data"
    }
   ],
   "source": [
    "plt.figure()\n",
    "plt.scatter(x=train['Day of Week'], y=train['trip_duration'])\n",
    "plt.xlabel('day')\n",
    "plt.ylabel('duration')"
   ]
  },
  {
   "cell_type": "markdown",
   "id": "4bc1b9a5",
   "metadata": {
    "papermill": {
     "duration": 0.00639,
     "end_time": "2023-10-11T23:55:36.035678",
     "exception": false,
     "start_time": "2023-10-11T23:55:36.029288",
     "status": "completed"
    },
    "tags": []
   },
   "source": [
    "Model"
   ]
  },
  {
   "cell_type": "code",
   "execution_count": 20,
   "id": "47b86aad",
   "metadata": {
    "execution": {
     "iopub.execute_input": "2023-10-11T23:55:36.049336Z",
     "iopub.status.busy": "2023-10-11T23:55:36.048910Z",
     "iopub.status.idle": "2023-10-11T23:55:36.091507Z",
     "shell.execute_reply": "2023-10-11T23:55:36.090574Z"
    },
    "papermill": {
     "duration": 0.051371,
     "end_time": "2023-10-11T23:55:36.093291",
     "exception": false,
     "start_time": "2023-10-11T23:55:36.041920",
     "status": "completed"
    },
    "tags": []
   },
   "outputs": [],
   "source": [
    "x_train = train[[\"pickup_longitude\", \"pickup_latitude\", \"dropoff_longitude\",\n",
    "                 \"dropoff_latitude\",\"Month\", \"Day of Week\", \"Hour\"]]\n",
    "y_train = train['trip_duration']\n",
    "x_test = test[[\"pickup_longitude\", \"pickup_latitude\", \"dropoff_longitude\",\n",
    "                 \"dropoff_latitude\",\"Month\", \"Day of Week\", \"Hour\"]]"
   ]
  },
  {
   "cell_type": "code",
   "execution_count": 21,
   "id": "98ce72f1",
   "metadata": {
    "execution": {
     "iopub.execute_input": "2023-10-11T23:55:36.107681Z",
     "iopub.status.busy": "2023-10-11T23:55:36.107389Z",
     "iopub.status.idle": "2023-10-11T23:55:36.136248Z",
     "shell.execute_reply": "2023-10-11T23:55:36.135369Z"
    },
    "papermill": {
     "duration": 0.03814,
     "end_time": "2023-10-11T23:55:36.138048",
     "exception": false,
     "start_time": "2023-10-11T23:55:36.099908",
     "status": "completed"
    },
    "tags": []
   },
   "outputs": [
    {
     "name": "stdout",
     "output_type": "stream",
     "text": [
      "<class 'pandas.core.frame.DataFrame'>\n",
      "Int64Index: 1458579 entries, 0 to 1458643\n",
      "Data columns (total 7 columns):\n",
      " #   Column             Non-Null Count    Dtype  \n",
      "---  ------             --------------    -----  \n",
      " 0   pickup_longitude   1458579 non-null  float64\n",
      " 1   pickup_latitude    1458579 non-null  float64\n",
      " 2   dropoff_longitude  1458579 non-null  float64\n",
      " 3   dropoff_latitude   1458579 non-null  float64\n",
      " 4   Month              1458579 non-null  int64  \n",
      " 5   Day of Week        1458579 non-null  int64  \n",
      " 6   Hour               1458579 non-null  int64  \n",
      "dtypes: float64(4), int64(3)\n",
      "memory usage: 89.0 MB\n"
     ]
    }
   ],
   "source": [
    "x_train.info()"
   ]
  },
  {
   "cell_type": "code",
   "execution_count": 22,
   "id": "82986be1",
   "metadata": {
    "execution": {
     "iopub.execute_input": "2023-10-11T23:55:36.152725Z",
     "iopub.status.busy": "2023-10-11T23:55:36.152314Z",
     "iopub.status.idle": "2023-10-12T00:19:52.325170Z",
     "shell.execute_reply": "2023-10-12T00:19:52.324235Z"
    },
    "papermill": {
     "duration": 1456.182746,
     "end_time": "2023-10-12T00:19:52.327678",
     "exception": false,
     "start_time": "2023-10-11T23:55:36.144932",
     "status": "completed"
    },
    "tags": []
   },
   "outputs": [],
   "source": [
    "from sklearn.ensemble import RandomForestRegressor\n",
    "rf = RandomForestRegressor()\n",
    "rf.fit(x_train, y_train)\n",
    "rf_predict = rf.predict(x_test)"
   ]
  },
  {
   "cell_type": "code",
   "execution_count": 23,
   "id": "41c8333b",
   "metadata": {
    "execution": {
     "iopub.execute_input": "2023-10-12T00:19:52.343264Z",
     "iopub.status.busy": "2023-10-12T00:19:52.342828Z",
     "iopub.status.idle": "2023-10-12T00:19:53.633856Z",
     "shell.execute_reply": "2023-10-12T00:19:53.632977Z"
    },
    "papermill": {
     "duration": 1.301178,
     "end_time": "2023-10-12T00:19:53.636235",
     "exception": false,
     "start_time": "2023-10-12T00:19:52.335057",
     "status": "completed"
    },
    "tags": []
   },
   "outputs": [
    {
     "data": {
      "text/html": [
       "<div>\n",
       "<style scoped>\n",
       "    .dataframe tbody tr th:only-of-type {\n",
       "        vertical-align: middle;\n",
       "    }\n",
       "\n",
       "    .dataframe tbody tr th {\n",
       "        vertical-align: top;\n",
       "    }\n",
       "\n",
       "    .dataframe thead th {\n",
       "        text-align: right;\n",
       "    }\n",
       "</style>\n",
       "<table border=\"1\" class=\"dataframe\">\n",
       "  <thead>\n",
       "    <tr style=\"text-align: right;\">\n",
       "      <th></th>\n",
       "      <th>id</th>\n",
       "      <th>trip_duration</th>\n",
       "    </tr>\n",
       "  </thead>\n",
       "  <tbody>\n",
       "    <tr>\n",
       "      <th>0</th>\n",
       "      <td>id3004672</td>\n",
       "      <td>759.82</td>\n",
       "    </tr>\n",
       "    <tr>\n",
       "      <th>1</th>\n",
       "      <td>id3505355</td>\n",
       "      <td>633.66</td>\n",
       "    </tr>\n",
       "    <tr>\n",
       "      <th>2</th>\n",
       "      <td>id1217141</td>\n",
       "      <td>516.18</td>\n",
       "    </tr>\n",
       "    <tr>\n",
       "      <th>3</th>\n",
       "      <td>id2150126</td>\n",
       "      <td>1158.25</td>\n",
       "    </tr>\n",
       "    <tr>\n",
       "      <th>4</th>\n",
       "      <td>id1598245</td>\n",
       "      <td>1295.67</td>\n",
       "    </tr>\n",
       "    <tr>\n",
       "      <th>5</th>\n",
       "      <td>id0668992</td>\n",
       "      <td>1087.87</td>\n",
       "    </tr>\n",
       "    <tr>\n",
       "      <th>6</th>\n",
       "      <td>id1765014</td>\n",
       "      <td>1337.23</td>\n",
       "    </tr>\n",
       "    <tr>\n",
       "      <th>7</th>\n",
       "      <td>id0898117</td>\n",
       "      <td>16219.41</td>\n",
       "    </tr>\n",
       "    <tr>\n",
       "      <th>8</th>\n",
       "      <td>id3905224</td>\n",
       "      <td>2635.67</td>\n",
       "    </tr>\n",
       "    <tr>\n",
       "      <th>9</th>\n",
       "      <td>id1543102</td>\n",
       "      <td>733.62</td>\n",
       "    </tr>\n",
       "    <tr>\n",
       "      <th>10</th>\n",
       "      <td>id3024712</td>\n",
       "      <td>1081.90</td>\n",
       "    </tr>\n",
       "    <tr>\n",
       "      <th>11</th>\n",
       "      <td>id3665810</td>\n",
       "      <td>507.52</td>\n",
       "    </tr>\n",
       "    <tr>\n",
       "      <th>12</th>\n",
       "      <td>id1836461</td>\n",
       "      <td>470.74</td>\n",
       "    </tr>\n",
       "    <tr>\n",
       "      <th>13</th>\n",
       "      <td>id3457080</td>\n",
       "      <td>690.54</td>\n",
       "    </tr>\n",
       "    <tr>\n",
       "      <th>14</th>\n",
       "      <td>id3376065</td>\n",
       "      <td>1342.43</td>\n",
       "    </tr>\n",
       "    <tr>\n",
       "      <th>15</th>\n",
       "      <td>id3008739</td>\n",
       "      <td>738.61</td>\n",
       "    </tr>\n",
       "    <tr>\n",
       "      <th>16</th>\n",
       "      <td>id0902216</td>\n",
       "      <td>2053.09</td>\n",
       "    </tr>\n",
       "    <tr>\n",
       "      <th>17</th>\n",
       "      <td>id3564824</td>\n",
       "      <td>632.35</td>\n",
       "    </tr>\n",
       "    <tr>\n",
       "      <th>18</th>\n",
       "      <td>id0820280</td>\n",
       "      <td>176.02</td>\n",
       "    </tr>\n",
       "    <tr>\n",
       "      <th>19</th>\n",
       "      <td>id0775088</td>\n",
       "      <td>1174.30</td>\n",
       "    </tr>\n",
       "  </tbody>\n",
       "</table>\n",
       "</div>"
      ],
      "text/plain": [
       "           id  trip_duration\n",
       "0   id3004672         759.82\n",
       "1   id3505355         633.66\n",
       "2   id1217141         516.18\n",
       "3   id2150126        1158.25\n",
       "4   id1598245        1295.67\n",
       "5   id0668992        1087.87\n",
       "6   id1765014        1337.23\n",
       "7   id0898117       16219.41\n",
       "8   id3905224        2635.67\n",
       "9   id1543102         733.62\n",
       "10  id3024712        1081.90\n",
       "11  id3665810         507.52\n",
       "12  id1836461         470.74\n",
       "13  id3457080         690.54\n",
       "14  id3376065        1342.43\n",
       "15  id3008739         738.61\n",
       "16  id0902216        2053.09\n",
       "17  id3564824         632.35\n",
       "18  id0820280         176.02\n",
       "19  id0775088        1174.30"
      ]
     },
     "execution_count": 23,
     "metadata": {},
     "output_type": "execute_result"
    }
   ],
   "source": [
    "submission = pd.read_csv('../input/nyc-taxi-trip-duration/sample_submission.zip')\n",
    "submission['trip_duration'] = rf_predict\n",
    "submission.to_csv('submission_1.csv', index=False)\n",
    "submission.head(20)"
   ]
  },
  {
   "cell_type": "code",
   "execution_count": null,
   "id": "fb6eb4bb",
   "metadata": {
    "papermill": {
     "duration": 0.006295,
     "end_time": "2023-10-12T00:19:53.649546",
     "exception": false,
     "start_time": "2023-10-12T00:19:53.643251",
     "status": "completed"
    },
    "tags": []
   },
   "outputs": [],
   "source": []
  }
 ],
 "metadata": {
  "kernelspec": {
   "display_name": "Python 3",
   "language": "python",
   "name": "python3"
  },
  "language_info": {
   "codemirror_mode": {
    "name": "ipython",
    "version": 3
   },
   "file_extension": ".py",
   "mimetype": "text/x-python",
   "name": "python",
   "nbconvert_exporter": "python",
   "pygments_lexer": "ipython3",
   "version": "3.7.12"
  },
  "papermill": {
   "default_parameters": {},
   "duration": 1486.368631,
   "end_time": "2023-10-12T00:19:55.583258",
   "environment_variables": {},
   "exception": null,
   "input_path": "__notebook__.ipynb",
   "output_path": "__notebook__.ipynb",
   "parameters": {},
   "start_time": "2023-10-11T23:55:09.214627",
   "version": "2.3.4"
  }
 },
 "nbformat": 4,
 "nbformat_minor": 5
}
